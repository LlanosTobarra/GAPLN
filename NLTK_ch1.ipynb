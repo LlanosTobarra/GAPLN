{
 "cells": [
  {
   "cell_type": "markdown",
   "metadata": {
    "deletable": true,
    "editable": true
   },
   "source": [
    "# 1. Getting started with nltk\n",
    "\n",
    "Enlace: http://www.nltk.org/book/ch01.html"
   ]
  },
  {
   "cell_type": "code",
   "execution_count": 37,
   "metadata": {
    "collapsed": true,
    "deletable": true,
    "editable": true
   },
   "outputs": [],
   "source": [
    "#division en coma flotante: el libro es de Python 3.0, yo tengo 2.7.\n",
    "from __future__ import division\n",
    "#importar la libería \n",
    "import nltk\n",
    "#Gráficas\n",
    "import matplotlib\n",
    "%matplotlib inline\n",
    "matplotlib.style.use('ggplot')"
   ]
  },
  {
   "cell_type": "code",
   "execution_count": 2,
   "metadata": {
    "collapsed": false,
    "deletable": true,
    "editable": true
   },
   "outputs": [
    {
     "name": "stdout",
     "output_type": "stream",
     "text": [
      "showing info https://raw.githubusercontent.com/nltk/nltk_data/gh-pages/index.xml\n"
     ]
    },
    {
     "data": {
      "text/plain": [
       "True"
      ]
     },
     "execution_count": 2,
     "metadata": {},
     "output_type": "execute_result"
    }
   ],
   "source": [
    "#instalación los corpus y los textos: hay que seleccionar books\n",
    "nltk.download()"
   ]
  },
  {
   "cell_type": "code",
   "execution_count": 4,
   "metadata": {
    "collapsed": false,
    "deletable": true,
    "editable": true
   },
   "outputs": [
    {
     "name": "stdout",
     "output_type": "stream",
     "text": [
      "*** Introductory Examples for the NLTK Book ***\n",
      "Loading text1, ..., text9 and sent1, ..., sent9\n",
      "Type the name of the text or sentence to view it.\n",
      "Type: 'texts()' or 'sents()' to list the materials.\n",
      "text1: Moby Dick by Herman Melville 1851\n",
      "text2: Sense and Sensibility by Jane Austen 1811\n",
      "text3: The Book of Genesis\n",
      "text4: Inaugural Address Corpus\n",
      "text5: Chat Corpus\n",
      "text6: Monty Python and the Holy Grail\n",
      "text7: Wall Street Journal\n",
      "text8: Personals Corpus\n",
      "text9: The Man Who Was Thursday by G . K . Chesterton 1908\n"
     ]
    }
   ],
   "source": [
    "#Comprobamos los libros\n",
    "from nltk.book import *"
   ]
  },
  {
   "cell_type": "code",
   "execution_count": 3,
   "metadata": {
    "collapsed": false,
    "deletable": true,
    "editable": true
   },
   "outputs": [
    {
     "data": {
      "text/plain": [
       "<Text: Moby Dick by Herman Melville 1851>"
      ]
     },
     "execution_count": 3,
     "metadata": {},
     "output_type": "execute_result"
    }
   ],
   "source": [
    "#Vemos algunos libros\n",
    "text1"
   ]
  },
  {
   "cell_type": "markdown",
   "metadata": {
    "deletable": true,
    "editable": true
   },
   "source": [
    "## Búsqueda en los textos"
   ]
  },
  {
   "cell_type": "markdown",
   "metadata": {
    "deletable": true,
    "editable": true
   },
   "source": [
    "El método concordance busca una palabra en el texto así como su contexto."
   ]
  },
  {
   "cell_type": "code",
   "execution_count": 5,
   "metadata": {
    "collapsed": false,
    "deletable": true,
    "editable": true
   },
   "outputs": [
    {
     "name": "stdout",
     "output_type": "stream",
     "text": [
      "Displaying 10 of 11 matches:\n",
      ", one was of a most monstrous size . ... This cam\n",
      "S . \" Touching that monstrous bulk of the whale o\n",
      "heathenish array of monstrous clubs and spears . \n",
      ", and wondered what monstrous cannibal and savage\n",
      "ed the flood ; most monstrous and most mountainou\n",
      "t at Moby Dick as a monstrous fable , or still wo\n",
      "\" CHAPTER 55 Of the Monstrous Pictures of Whales \n",
      " connexion with the monstrous pictures of whales \n",
      "on those still more monstrous stories of them whi\n",
      "ummaged out of this monstrous cabinet there is no\n"
     ]
    }
   ],
   "source": [
    "#con line determinamos la cantidad de líneas que mostramos y con width la cantidad de caracteres del contexto que nos\n",
    "#interesa\n",
    "text1.concordance(\"monstrous\",lines=10,width=50)"
   ]
  },
  {
   "cell_type": "code",
   "execution_count": 6,
   "metadata": {
    "collapsed": false,
    "deletable": true,
    "editable": true
   },
   "outputs": [
    {
     "name": "stdout",
     "output_type": "stream",
     "text": [
      "Displaying 25 of 79 matches:\n",
      ", however , and , as a mark of his affection for the three girls , he left them\n",
      "t . It was very well known that no affection was ever supposed to exist between\n",
      "deration of politeness or maternal affection on the side of the former , the tw\n",
      "d the suspicion -- the hope of his affection for me may warrant , without impru\n",
      "hich forbade the indulgence of his affection . She knew that his mother neither\n",
      "rd she gave one with still greater affection . Though her late conversation wit\n",
      " can never hope to feel or inspire affection again , and if her home be uncomfo\n",
      "m of the sense , elegance , mutual affection , and domestic comfort of the fami\n",
      ", and which recommended him to her affection beyond every thing else . His soci\n",
      "ween the parties might forward the affection of Mr . Willoughby , an equally st\n",
      " the most pointed assurance of her affection . Elinor could not be surprised at\n",
      "he natural consequence of a strong affection in a young and ardent mind . This \n",
      " opinion . But by an appeal to her affection for her mother , by representing t\n",
      " every alteration of a place which affection had established as perfect with hi\n",
      "e will always have one claim of my affection , which no other can possibly shar\n",
      "f the evening declared at once his affection and happiness . \" Shall we see you\n",
      "ause he took leave of us with less affection than his usual behaviour has shewn\n",
      "ness .\" \" I want no proof of their affection ,\" said Elinor ; \" but of their en\n",
      "onths , without telling her of his affection ;-- that they should part without \n",
      "ould be the natural result of your affection for her . She used to be all unres\n",
      "distinguished Elinor by no mark of affection . Marianne saw and listened with i\n",
      "th no inclination for expense , no affection for strangers , no profession , an\n",
      "till distinguished her by the same affection which once she had felt no doubt o\n",
      "al of her confidence in Edward ' s affection , to the remembrance of every mark\n",
      " was made ? Had he never owned his affection to yourself ?\" \" Oh , no ; but if \n"
     ]
    }
   ],
   "source": [
    "text2.concordance(\"affection\")"
   ]
  },
  {
   "cell_type": "code",
   "execution_count": 7,
   "metadata": {
    "collapsed": false,
    "deletable": true,
    "editable": true
   },
   "outputs": [
    {
     "name": "stdout",
     "output_type": "stream",
     "text": [
      "Displaying 25 of 38 matches:\n",
      "ay when they were created . And Adam lived an hundred and thirty years , and be\n",
      "ughters : And all the days that Adam lived were nine hundred and thirty yea and\n",
      "nd thirty yea and he died . And Seth lived an hundred and five years , and bega\n",
      "ve years , and begat Enos : And Seth lived after he begat Enos eight hundred an\n",
      "welve years : and he died . And Enos lived ninety years , and begat Cainan : An\n",
      " years , and begat Cainan : And Enos lived after he begat Cainan eight hundred \n",
      "ive years : and he died . And Cainan lived seventy years and begat Mahalaleel :\n",
      "rs and begat Mahalaleel : And Cainan lived after he begat Mahalaleel eight hund\n",
      "years : and he died . And Mahalaleel lived sixty and five years , and begat Jar\n",
      "s , and begat Jared : And Mahalaleel lived after he begat Jared eight hundred a\n",
      "and five yea and he died . And Jared lived an hundred sixty and two years , and\n",
      "o years , and he begat Eno And Jared lived after he begat Enoch eight hundred y\n",
      " and two yea and he died . And Enoch lived sixty and five years , and begat Met\n",
      " ; for God took him . And Methuselah lived an hundred eighty and seven years , \n",
      " , and begat Lamech . And Methuselah lived after he begat Lamech seven hundred \n",
      "nd nine yea and he died . And Lamech lived an hundred eighty and two years , an\n",
      "ch the LORD hath cursed . And Lamech lived after he begat Noah five hundred nin\n",
      "naan shall be his servant . And Noah lived after the flood three hundred and fi\n",
      "xad two years after the flo And Shem lived after he begat Arphaxad five hundred\n",
      "at sons and daughters . And Arphaxad lived five and thirty years , and begat Sa\n",
      "ars , and begat Salah : And Arphaxad lived after he begat Salah four hundred an\n",
      "begat sons and daughters . And Salah lived thirty years , and begat Eber : And \n",
      "y years , and begat Eber : And Salah lived after he begat Eber four hundred and\n",
      " begat sons and daughters . And Eber lived four and thirty years , and begat Pe\n",
      "y years , and begat Peleg : And Eber lived after he begat Peleg four hundred an\n"
     ]
    }
   ],
   "source": [
    "text3.concordance(\"lived\")"
   ]
  },
  {
   "cell_type": "code",
   "execution_count": 10,
   "metadata": {
    "collapsed": false,
    "deletable": true,
    "editable": true
   },
   "outputs": [
    {
     "name": "stdout",
     "output_type": "stream",
     "text": [
      "Displaying 25 of 98 matches:\n",
      "eliance on the protection of Almighty God , I shall forthwith commence the duti\n",
      "humble , acknowledged dependence upon God and His overruling providence . We ha\n",
      "great office I must humbly invoke the God of our fathers for wisdom and firmnes\n",
      "d the same Bible and pray to the same God , and each invokes His aid against th\n",
      "hat any men should dare to ask a just God ' s assistance in wringing their brea\n",
      "offenses which , in the providence of God , must needs come , but which , havin\n",
      "butes which the believers in a living God always ascribe to Him ? Fondly do we \n",
      "war may speedily pass away . Yet , if God wills that it continue until all the \n",
      "r all , with firmness in the right as God gives us to see the right , let us st\n",
      "the prayers of the nation to Almighty God in behalf of this consummation . Fell\n",
      "r , they have \" followed the light as God gave them to see the light .\" They ar\n",
      "ess their fathers and their fathers ' God that the Union was preserved , that s\n",
      "the support and blessings of Almighty God . Fellow citizens , in the presence o\n",
      "ng the power and goodness of Almighty God , who presides over the destiny of na\n",
      "expect the favor and help of Almighty God -- that He will give to me wisdom , s\n",
      " suggestion to enterprise and labor . God has placed upon our head a diadem and\n",
      "urn than the pledge I now give before God and these witnesses of unreserved and\n",
      "han human life can escape the laws of God and nature . Manifestly nothing is mo\n",
      "and invoking the guidance of Almighty God . Our faith teaches that there is no \n",
      "re is no safer reliance than upon the God of our fathers , who has so singularl\n",
      "e the direction and favor of Almighty God . I should shrink from the duties thi\n",
      " devolve upon it , and in the fear of God will \" take occasion by the hand and \n",
      " citizens and the aid of the Almighty God in the discharge of my responsible du\n",
      "our heartstrings like some air out of God ' s own presence , where justice and \n",
      " forward - looking men , to my side . God helping me , I will not fail them , i\n"
     ]
    }
   ],
   "source": [
    "# nation, terror, god \n",
    "#text4.concordance(\"nation\")\n",
    "#text4.concordance(\"terror\") #poco popular\n",
    "text4.concordance(\"god\") #Muy popular"
   ]
  },
  {
   "cell_type": "code",
   "execution_count": 15,
   "metadata": {
    "collapsed": false,
    "deletable": true,
    "editable": true
   },
   "outputs": [
    {
     "name": "stdout",
     "output_type": "stream",
     "text": [
      "Displaying 25 of 822 matches:\n",
      "ast PART 24 / m boo . 26 / m and sexy lol U115 boo . JOIN PART he drew a girl w\n",
      "ope he didnt draw a penis PART ewwwww lol & a head between her legs JOIN JOIN s\n",
      "a bowl i got a blunt an a bong ...... lol JOIN well , glad it worked out my cha\n",
      "e \" PART Hi U121 in ny . ACTION would lol @ U121 . . . but appearently she does\n",
      "30 make sure u buy a nice ring for U6 lol U7 Hi U115 . ACTION isnt falling for \n",
      " didnt ya hear !!!! PART JOIN geeshhh lol U6 PART hes deaf ppl here dont get it\n",
      "es nobody here i wanna misbeahve with lol JOIN so read it . thanks U7 .. Im hap\n",
      "ies want to chat can i talk to him !! lol U121 !!! forwards too lol JOIN ALL PE\n",
      "k to him !! lol U121 !!! forwards too lol JOIN ALL PErvs ... redirect to U121 '\n",
      " loves ME the most i love myself JOIN lol U44 how do u know that what ? jerkett\n",
      "ng wrong ... i can see it in his eyes lol U20 = fiance Jerketts lmao wtf yah I \n",
      "cooler by the minute what 'd I miss ? lol noo there too much work ! why not ?? \n",
      " that mean I want you ? U6 hello room lol U83 and this .. has been the grammar \n",
      " the rule he 's in PM land now though lol ah ok i wont bug em then someone wann\n",
      "flight to hell :) lmao bbl maybe PART LOL lol U7 it was me , U83 hahah U83 ! 80\n",
      "ht to hell :) lmao bbl maybe PART LOL lol U7 it was me , U83 hahah U83 ! 808265\n",
      "082653953 K-Fed got his ass kicked .. Lol . ACTION laughs . i got a first class\n",
      " . i got a first class ticket to hell lol U7 JOIN any texas girls in here ? any\n",
      " . whats up U155 i was only kidding . lol he 's a douchebag . Poor U121 i 'm bo\n",
      " ??? sits with U30 Cum to my shower . lol U121 . ACTION U1370 watches his nads \n",
      " ur nad with a stick . ca u U23 ewwww lol *sniffs* ewwwwww PART U115 ! owww spl\n",
      "ACTION is resisting . ur female right lol U115 beeeeehave Remember the LAst tim\n",
      "pm's me . charge that is 1.99 / min . lol @ innocent hahah lol .... yeah LOLOLO\n",
      " is 1.99 / min . lol @ innocent hahah lol .... yeah LOLOLOLLL U12 thats not nic\n",
      "s . lmao no U115 Check my record . :) Lol lick em U7 U23 how old r u lol Way to\n"
     ]
    }
   ],
   "source": [
    "#im, ur, lol.\n",
    "#text5.concordance('im') 149 veces\n",
    "#text5.concordance('ur') 21 veces\n",
    "text5.concordance('lol') 822 veces"
   ]
  },
  {
   "cell_type": "markdown",
   "metadata": {
    "deletable": true,
    "editable": true
   },
   "source": [
    "El método similar nos muestra otros términos que aparecen en el mismo contexto que la palabra que pasamos como parámetro."
   ]
  },
  {
   "cell_type": "code",
   "execution_count": 16,
   "metadata": {
    "collapsed": false,
    "deletable": true,
    "editable": true
   },
   "outputs": [
    {
     "name": "stdout",
     "output_type": "stream",
     "text": [
      "imperial subtly impalpable pitiable curious abundant perilous\n",
      "trustworthy untoward singular lamentable few determined maddens\n",
      "horrible tyrannical lazy mystifying christian exasperate\n"
     ]
    }
   ],
   "source": [
    "text1.similar(\"monstrous\")"
   ]
  },
  {
   "cell_type": "code",
   "execution_count": 17,
   "metadata": {
    "collapsed": false,
    "deletable": true,
    "editable": true
   },
   "outputs": [
    {
     "name": "stdout",
     "output_type": "stream",
     "text": [
      "very exceedingly so heartily a great good amazingly as sweet\n",
      "remarkably extremely vast\n"
     ]
    }
   ],
   "source": [
    "text2.similar(\"monstrous\")"
   ]
  },
  {
   "cell_type": "markdown",
   "metadata": {
    "deletable": true,
    "editable": true
   },
   "source": [
    "En el texto 1 Moby Dick tiene una connotación negativa mientrás que en el segundo texto Sentido y Sensibilidad tiene una orientación más positiva.\n",
    "Por otra parte, common_contexts nos permite buscar los contextos comúnes de dos palabras."
   ]
  },
  {
   "cell_type": "code",
   "execution_count": 18,
   "metadata": {
    "collapsed": false,
    "deletable": true,
    "editable": true
   },
   "outputs": [
    {
     "name": "stdout",
     "output_type": "stream",
     "text": [
      "a_pretty is_pretty a_lucky am_glad be_glad\n"
     ]
    }
   ],
   "source": [
    " text2.common_contexts([\"monstrous\", \"very\"])"
   ]
  },
  {
   "cell_type": "code",
   "execution_count": 19,
   "metadata": {
    "collapsed": false,
    "deletable": true,
    "editable": true
   },
   "outputs": [
    {
     "data": {
      "image/png": "[encoded data removed]",
      "text/plain": [
       "<matplotlib.figure.Figure at 0x37a5cc0>"
      ]
     },
     "metadata": {},
     "output_type": "display_data"
    }
   ],
   "source": [
    "#mostrar la ocurrencia de los términos de forma gráfica\n",
    "text4.dispersion_plot([\"citizens\", \"democracy\", \"freedom\", \"duties\", \"America\"])"
   ]
  },
  {
   "cell_type": "code",
   "execution_count": 21,
   "metadata": {
    "collapsed": false,
    "deletable": true,
    "editable": true
   },
   "outputs": [
    {
     "ename": "AttributeError",
     "evalue": "'Text' object has no attribute 'generate'",
     "output_type": "error",
     "traceback": [
      "\u001b[0;31m---------------------------------------------------------------------------\u001b[0m",
      "\u001b[0;31mAttributeError\u001b[0m                            Traceback (most recent call last)",
      "\u001b[0;32m<ipython-input-21-e0816ba18b61>\u001b[0m in \u001b[0;36m<module>\u001b[0;34m()\u001b[0m\n\u001b[0;32m----> 1\u001b[0;31m \u001b[0mtext3\u001b[0m\u001b[1;33m.\u001b[0m\u001b[0mgenerate\u001b[0m\u001b[1;33m(\u001b[0m\u001b[1;33m)\u001b[0m\u001b[1;33m\u001b[0m\u001b[0m\n\u001b[0m",
      "\u001b[0;31mAttributeError\u001b[0m: 'Text' object has no attribute 'generate'"
     ]
    }
   ],
   "source": [
    "#Este método no está disponible en mi versión de NLTK\n",
    "#text3.generate()"
   ]
  },
  {
   "cell_type": "markdown",
   "metadata": {
    "deletable": true,
    "editable": true
   },
   "source": [
    "Podemos saber la cantidad de tokens disponibles en cada texto mediante la función len. Esta función nos dice todos los tokens, pero si queremos saber los tokens distintos o únicos. Un **tipo de palabra** es la forma o ortografía de la palabra independientemente de sus ocurrencias específicas en un texto, es decir, la palabra considerada como un elemento único de vocabulario."
   ]
  },
  {
   "cell_type": "code",
   "execution_count": 22,
   "metadata": {
    "collapsed": false,
    "deletable": true,
    "editable": true
   },
   "outputs": [
    {
     "data": {
      "text/plain": [
       "44764"
      ]
     },
     "execution_count": 22,
     "metadata": {},
     "output_type": "execute_result"
    }
   ],
   "source": [
    "#número total de tokens, contando repeticiones\n",
    "len(text3)"
   ]
  },
  {
   "cell_type": "code",
   "execution_count": 23,
   "metadata": {
    "collapsed": false,
    "deletable": true,
    "editable": true
   },
   "outputs": [
    {
     "data": {
      "text/plain": [
       "[u'!',\n",
       " u\"'\",\n",
       " u'(',\n",
       " u')',\n",
       " u',',\n",
       " u',)',\n",
       " u'.',\n",
       " u'.)',\n",
       " u':',\n",
       " u';',\n",
       " u';)',\n",
       " u'?',\n",
       " u'?)',\n",
       " u'A',\n",
       " u'Abel',\n",
       " u'Abelmizraim',\n",
       " u'Abidah',\n",
       " u'Abide',\n",
       " u'Abimael',\n",
       " u'Abimelech',\n",
       " u'Abr',\n",
       " u'Abrah',\n",
       " u'Abraham',\n",
       " u'Abram',\n",
       " u'Accad',\n",
       " u'Achbor',\n",
       " u'Adah',\n",
       " u'Adam',\n",
       " u'Adbeel',\n",
       " u'Admah',\n",
       " u'Adullamite',\n",
       " u'After',\n",
       " u'Aholibamah',\n",
       " u'Ahuzzath',\n",
       " u'Ajah',\n",
       " u'Akan',\n",
       " u'All',\n",
       " u'Allonbachuth',\n",
       " u'Almighty',\n",
       " u'Almodad',\n",
       " u'Also',\n",
       " u'Alvah',\n",
       " u'Alvan',\n",
       " u'Am',\n",
       " u'Amal',\n",
       " u'Amalek',\n",
       " u'Amalekites',\n",
       " u'Ammon',\n",
       " u'Amorite',\n",
       " u'Amorites',\n",
       " u'Amraphel',\n",
       " u'An',\n",
       " u'Anah',\n",
       " u'Anamim',\n",
       " u'And',\n",
       " u'Aner',\n",
       " u'Angel',\n",
       " u'Appoint',\n",
       " u'Aram',\n",
       " u'Aran',\n",
       " u'Ararat',\n",
       " u'Arbah',\n",
       " u'Ard',\n",
       " u'Are',\n",
       " u'Areli',\n",
       " u'Arioch',\n",
       " u'Arise',\n",
       " u'Arkite',\n",
       " u'Arodi',\n",
       " u'Arphaxad',\n",
       " u'Art',\n",
       " u'Arvadite',\n",
       " u'As',\n",
       " u'Asenath',\n",
       " u'Ashbel',\n",
       " u'Asher',\n",
       " u'Ashkenaz',\n",
       " u'Ashteroth',\n",
       " u'Ask',\n",
       " u'Asshur',\n",
       " u'Asshurim',\n",
       " u'Assyr',\n",
       " u'Assyria',\n",
       " u'At',\n",
       " u'Atad',\n",
       " u'Avith',\n",
       " u'Baalhanan',\n",
       " u'Babel',\n",
       " u'Bashemath',\n",
       " u'Be',\n",
       " u'Because',\n",
       " u'Becher',\n",
       " u'Bedad',\n",
       " u'Beeri',\n",
       " u'Beerlahairoi',\n",
       " u'Beersheba',\n",
       " u'Behold',\n",
       " u'Bela',\n",
       " u'Belah',\n",
       " u'Benam',\n",
       " u'Benjamin',\n",
       " u'Beno',\n",
       " u'Beor',\n",
       " u'Bera',\n",
       " u'Bered',\n",
       " u'Beriah',\n",
       " u'Bethel',\n",
       " u'Bethlehem',\n",
       " u'Bethuel',\n",
       " u'Beware',\n",
       " u'Bilhah',\n",
       " u'Bilhan',\n",
       " u'Binding',\n",
       " u'Birsha',\n",
       " u'Bless',\n",
       " u'Blessed',\n",
       " u'Both',\n",
       " u'Bow',\n",
       " u'Bozrah',\n",
       " u'Bring',\n",
       " u'But',\n",
       " u'Buz',\n",
       " u'By',\n",
       " u'Cain',\n",
       " u'Cainan',\n",
       " u'Calah',\n",
       " u'Calneh',\n",
       " u'Can',\n",
       " u'Cana',\n",
       " u'Canaan',\n",
       " u'Canaanite',\n",
       " u'Canaanites',\n",
       " u'Canaanitish',\n",
       " u'Caphtorim',\n",
       " u'Carmi',\n",
       " u'Casluhim',\n",
       " u'Cast',\n",
       " u'Cause',\n",
       " u'Chaldees',\n",
       " u'Chedorlaomer',\n",
       " u'Cheran',\n",
       " u'Cherubims',\n",
       " u'Chesed',\n",
       " u'Chezib',\n",
       " u'Come',\n",
       " u'Cursed',\n",
       " u'Cush',\n",
       " u'Damascus',\n",
       " u'Dan',\n",
       " u'Day',\n",
       " u'Deborah',\n",
       " u'Dedan',\n",
       " u'Deliver',\n",
       " u'Diklah',\n",
       " u'Din',\n",
       " u'Dinah',\n",
       " u'Dinhabah',\n",
       " u'Discern',\n",
       " u'Dishan',\n",
       " u'Dishon',\n",
       " u'Do',\n",
       " u'Dodanim',\n",
       " u'Dothan',\n",
       " u'Drink',\n",
       " u'Duke',\n",
       " u'Dumah',\n",
       " u'Earth',\n",
       " u'Ebal',\n",
       " u'Eber',\n",
       " u'Edar',\n",
       " u'Eden',\n",
       " u'Edom',\n",
       " u'Edomites',\n",
       " u'Egy',\n",
       " u'Egypt',\n",
       " u'Egyptia',\n",
       " u'Egyptian',\n",
       " u'Egyptians',\n",
       " u'Ehi',\n",
       " u'Elah',\n",
       " u'Elam',\n",
       " u'Elbethel',\n",
       " u'Eldaah',\n",
       " u'EleloheIsrael',\n",
       " u'Eliezer',\n",
       " u'Eliphaz',\n",
       " u'Elishah',\n",
       " u'Ellasar',\n",
       " u'Elon',\n",
       " u'Elparan',\n",
       " u'Emins',\n",
       " u'En',\n",
       " u'Enmishpat',\n",
       " u'Eno',\n",
       " u'Enoch',\n",
       " u'Enos',\n",
       " u'Ephah',\n",
       " u'Epher',\n",
       " u'Ephra',\n",
       " u'Ephraim',\n",
       " u'Ephrath',\n",
       " u'Ephron',\n",
       " u'Er',\n",
       " u'Erech',\n",
       " u'Eri',\n",
       " u'Es',\n",
       " u'Esau',\n",
       " u'Escape',\n",
       " u'Esek',\n",
       " u'Eshban',\n",
       " u'Eshcol',\n",
       " u'Ethiopia',\n",
       " u'Euphrat',\n",
       " u'Euphrates',\n",
       " u'Eve',\n",
       " u'Even',\n",
       " u'Every',\n",
       " u'Except',\n",
       " u'Ezbon',\n",
       " u'Ezer',\n",
       " u'Fear',\n",
       " u'Feed',\n",
       " u'Fifteen',\n",
       " u'Fill',\n",
       " u'For',\n",
       " u'Forasmuch',\n",
       " u'Forgive',\n",
       " u'From',\n",
       " u'Fulfil',\n",
       " u'G',\n",
       " u'Gad',\n",
       " u'Gaham',\n",
       " u'Galeed',\n",
       " u'Gatam',\n",
       " u'Gather',\n",
       " u'Gaza',\n",
       " u'Gentiles',\n",
       " u'Gera',\n",
       " u'Gerar',\n",
       " u'Gershon',\n",
       " u'Get',\n",
       " u'Gether',\n",
       " u'Gihon',\n",
       " u'Gilead',\n",
       " u'Girgashites',\n",
       " u'Girgasite',\n",
       " u'Give',\n",
       " u'Go',\n",
       " u'God',\n",
       " u'Gomer',\n",
       " u'Gomorrah',\n",
       " u'Goshen',\n",
       " u'Guni',\n",
       " u'Hadad',\n",
       " u'Hadar',\n",
       " u'Hadoram',\n",
       " u'Hagar',\n",
       " u'Haggi',\n",
       " u'Hai',\n",
       " u'Ham',\n",
       " u'Hamathite',\n",
       " u'Hamor',\n",
       " u'Hamul',\n",
       " u'Hanoch',\n",
       " u'Happy',\n",
       " u'Haran',\n",
       " u'Hast',\n",
       " u'Haste',\n",
       " u'Have',\n",
       " u'Havilah',\n",
       " u'Hazarmaveth',\n",
       " u'Hazezontamar',\n",
       " u'Hazo',\n",
       " u'He',\n",
       " u'Hear',\n",
       " u'Heaven',\n",
       " u'Heber',\n",
       " u'Hebrew',\n",
       " u'Hebrews',\n",
       " u'Hebron',\n",
       " u'Hemam',\n",
       " u'Hemdan',\n",
       " u'Here',\n",
       " u'Hereby',\n",
       " u'Heth',\n",
       " u'Hezron',\n",
       " u'Hiddekel',\n",
       " u'Hinder',\n",
       " u'Hirah',\n",
       " u'His',\n",
       " u'Hitti',\n",
       " u'Hittite',\n",
       " u'Hittites',\n",
       " u'Hivite',\n",
       " u'Hobah',\n",
       " u'Hori',\n",
       " u'Horite',\n",
       " u'Horites',\n",
       " u'How',\n",
       " u'Hul',\n",
       " u'Huppim',\n",
       " u'Husham',\n",
       " u'Hushim',\n",
       " u'Huz',\n",
       " u'I',\n",
       " u'If',\n",
       " u'In',\n",
       " u'Irad',\n",
       " u'Iram',\n",
       " u'Is',\n",
       " u'Isa',\n",
       " u'Isaac',\n",
       " u'Iscah',\n",
       " u'Ishbak',\n",
       " u'Ishmael',\n",
       " u'Ishmeelites',\n",
       " u'Ishuah',\n",
       " u'Isra',\n",
       " u'Israel',\n",
       " u'Issachar',\n",
       " u'Isui',\n",
       " u'It',\n",
       " u'Ithran',\n",
       " u'Jaalam',\n",
       " u'Jabal',\n",
       " u'Jabbok',\n",
       " u'Jac',\n",
       " u'Jachin',\n",
       " u'Jacob',\n",
       " u'Jahleel',\n",
       " u'Jahzeel',\n",
       " u'Jamin',\n",
       " u'Japhe',\n",
       " u'Japheth',\n",
       " u'Jared',\n",
       " u'Javan',\n",
       " u'Jebusite',\n",
       " u'Jebusites',\n",
       " u'Jegarsahadutha',\n",
       " u'Jehovahjireh',\n",
       " u'Jemuel',\n",
       " u'Jerah',\n",
       " u'Jetheth',\n",
       " u'Jetur',\n",
       " u'Jeush',\n",
       " u'Jezer',\n",
       " u'Jidlaph',\n",
       " u'Jimnah',\n",
       " u'Job',\n",
       " u'Jobab',\n",
       " u'Jokshan',\n",
       " u'Joktan',\n",
       " u'Jordan',\n",
       " u'Joseph',\n",
       " u'Jubal',\n",
       " u'Judah',\n",
       " u'Judge',\n",
       " u'Judith',\n",
       " u'Kadesh',\n",
       " u'Kadmonites',\n",
       " u'Karnaim',\n",
       " u'Kedar',\n",
       " u'Kedemah',\n",
       " u'Kemuel',\n",
       " u'Kenaz',\n",
       " u'Kenites',\n",
       " u'Kenizzites',\n",
       " u'Keturah',\n",
       " u'Kiriathaim',\n",
       " u'Kirjatharba',\n",
       " u'Kittim',\n",
       " u'Know',\n",
       " u'Kohath',\n",
       " u'Kor',\n",
       " u'Korah',\n",
       " u'LO',\n",
       " u'LORD',\n",
       " u'Laban',\n",
       " u'Lahairoi',\n",
       " u'Lamech',\n",
       " u'Lasha',\n",
       " u'Lay',\n",
       " u'Leah',\n",
       " u'Lehabim',\n",
       " u'Lest',\n",
       " u'Let',\n",
       " u'Letushim',\n",
       " u'Leummim',\n",
       " u'Levi',\n",
       " u'Lie',\n",
       " u'Lift',\n",
       " u'Lo',\n",
       " u'Look',\n",
       " u'Lot',\n",
       " u'Lotan',\n",
       " u'Lud',\n",
       " u'Ludim',\n",
       " u'Luz',\n",
       " u'Maachah',\n",
       " u'Machir',\n",
       " u'Machpelah',\n",
       " u'Madai',\n",
       " u'Magdiel',\n",
       " u'Magog',\n",
       " u'Mahalaleel',\n",
       " u'Mahalath',\n",
       " u'Mahanaim',\n",
       " u'Make',\n",
       " u'Malchiel',\n",
       " u'Male',\n",
       " u'Mam',\n",
       " u'Mamre',\n",
       " u'Man',\n",
       " u'Manahath',\n",
       " u'Manass',\n",
       " u'Manasseh',\n",
       " u'Mash',\n",
       " u'Masrekah',\n",
       " u'Massa',\n",
       " u'Matred',\n",
       " u'Me',\n",
       " u'Medan',\n",
       " u'Mehetabel',\n",
       " u'Mehujael',\n",
       " u'Melchizedek',\n",
       " u'Merari',\n",
       " u'Mesha',\n",
       " u'Meshech',\n",
       " u'Mesopotamia',\n",
       " u'Methusa',\n",
       " u'Methusael',\n",
       " u'Methuselah',\n",
       " u'Mezahab',\n",
       " u'Mibsam',\n",
       " u'Mibzar',\n",
       " u'Midian',\n",
       " u'Midianites',\n",
       " u'Milcah',\n",
       " u'Mishma',\n",
       " u'Mizpah',\n",
       " u'Mizraim',\n",
       " u'Mizz',\n",
       " u'Moab',\n",
       " u'Moabites',\n",
       " u'Moreh',\n",
       " u'Moreover',\n",
       " u'Moriah',\n",
       " u'Muppim',\n",
       " u'My',\n",
       " u'Naamah',\n",
       " u'Naaman',\n",
       " u'Nahath',\n",
       " u'Nahor',\n",
       " u'Naphish',\n",
       " u'Naphtali',\n",
       " u'Naphtuhim',\n",
       " u'Nay',\n",
       " u'Nebajoth',\n",
       " u'Neither',\n",
       " u'Night',\n",
       " u'Nimrod',\n",
       " u'Nineveh',\n",
       " u'Noah',\n",
       " u'Nod',\n",
       " u'Not',\n",
       " u'Now',\n",
       " u'O',\n",
       " u'Obal',\n",
       " u'Of',\n",
       " u'Oh',\n",
       " u'Ohad',\n",
       " u'Omar',\n",
       " u'On',\n",
       " u'Onam',\n",
       " u'Onan',\n",
       " u'Only',\n",
       " u'Ophir',\n",
       " u'Our',\n",
       " u'Out',\n",
       " u'Padan',\n",
       " u'Padanaram',\n",
       " u'Paran',\n",
       " u'Pass',\n",
       " u'Pathrusim',\n",
       " u'Pau',\n",
       " u'Peace',\n",
       " u'Peleg',\n",
       " u'Peniel',\n",
       " u'Penuel',\n",
       " u'Peradventure',\n",
       " u'Perizzit',\n",
       " u'Perizzite',\n",
       " u'Perizzites',\n",
       " u'Phallu',\n",
       " u'Phara',\n",
       " u'Pharaoh',\n",
       " u'Pharez',\n",
       " u'Phichol',\n",
       " u'Philistim',\n",
       " u'Philistines',\n",
       " u'Phut',\n",
       " u'Phuvah',\n",
       " u'Pildash',\n",
       " u'Pinon',\n",
       " u'Pison',\n",
       " u'Potiphar',\n",
       " u'Potipherah',\n",
       " u'Put',\n",
       " u'Raamah',\n",
       " u'Rachel',\n",
       " u'Rameses',\n",
       " u'Rebek',\n",
       " u'Rebekah',\n",
       " u'Rehoboth',\n",
       " u'Remain',\n",
       " u'Rephaims',\n",
       " u'Resen',\n",
       " u'Return',\n",
       " u'Reu',\n",
       " u'Reub',\n",
       " u'Reuben',\n",
       " u'Reuel',\n",
       " u'Reumah',\n",
       " u'Riphath',\n",
       " u'Rosh',\n",
       " u'Sabtah',\n",
       " u'Sabtech',\n",
       " u'Said',\n",
       " u'Salah',\n",
       " u'Salem',\n",
       " u'Samlah',\n",
       " u'Sarah',\n",
       " u'Sarai',\n",
       " u'Saul',\n",
       " u'Save',\n",
       " u'Say',\n",
       " u'Se',\n",
       " u'Seba',\n",
       " u'See',\n",
       " u'Seeing',\n",
       " u'Seir',\n",
       " u'Sell',\n",
       " u'Send',\n",
       " u'Sephar',\n",
       " u'Serah',\n",
       " u'Sered',\n",
       " u'Serug',\n",
       " u'Set',\n",
       " u'Seth',\n",
       " u'Shalem',\n",
       " u'Shall',\n",
       " u'Shalt',\n",
       " u'Shammah',\n",
       " u'Shaul',\n",
       " u'Shaveh',\n",
       " u'She',\n",
       " u'Sheba',\n",
       " u'Shebah',\n",
       " u'Shechem',\n",
       " u'Shed',\n",
       " u'Shel',\n",
       " u'Shelah',\n",
       " u'Sheleph',\n",
       " u'Shem',\n",
       " u'Shemeber',\n",
       " u'Shepho',\n",
       " u'Shillem',\n",
       " u'Shiloh',\n",
       " u'Shimron',\n",
       " u'Shinab',\n",
       " u'Shinar',\n",
       " u'Shobal',\n",
       " u'Should',\n",
       " u'Shuah',\n",
       " u'Shuni',\n",
       " u'Shur',\n",
       " u'Sichem',\n",
       " u'Siddim',\n",
       " u'Sidon',\n",
       " u'Simeon',\n",
       " u'Sinite',\n",
       " u'Sitnah',\n",
       " u'Slay',\n",
       " u'So',\n",
       " u'Sod',\n",
       " u'Sodom',\n",
       " u'Sojourn',\n",
       " u'Some',\n",
       " u'Spake',\n",
       " u'Speak',\n",
       " u'Spirit',\n",
       " u'Stand',\n",
       " u'Succoth',\n",
       " u'Surely',\n",
       " u'Swear',\n",
       " u'Syrian',\n",
       " u'Take',\n",
       " u'Tamar',\n",
       " u'Tarshish',\n",
       " u'Tebah',\n",
       " u'Tell',\n",
       " u'Tema',\n",
       " u'Teman',\n",
       " u'Temani',\n",
       " u'Terah',\n",
       " u'Thahash',\n",
       " u'That',\n",
       " u'The',\n",
       " u'Then',\n",
       " u'There',\n",
       " u'Therefore',\n",
       " u'These',\n",
       " u'They',\n",
       " u'Thirty',\n",
       " u'This',\n",
       " u'Thorns',\n",
       " u'Thou',\n",
       " u'Thus',\n",
       " u'Thy',\n",
       " u'Tidal',\n",
       " u'Timna',\n",
       " u'Timnah',\n",
       " u'Timnath',\n",
       " u'Tiras',\n",
       " u'To',\n",
       " u'Togarmah',\n",
       " u'Tola',\n",
       " u'Tubal',\n",
       " u'Tubalcain',\n",
       " u'Twelve',\n",
       " u'Two',\n",
       " u'Unstable',\n",
       " u'Until',\n",
       " u'Unto',\n",
       " u'Up',\n",
       " u'Upon',\n",
       " u'Ur',\n",
       " u'Uz',\n",
       " u'Uzal',\n",
       " u'We',\n",
       " u'What',\n",
       " u'When',\n",
       " u'Whence',\n",
       " u'Where',\n",
       " u'Whereas',\n",
       " u'Wherefore',\n",
       " u'Which',\n",
       " u'While',\n",
       " u'Who',\n",
       " u'Whose',\n",
       " u'Whoso',\n",
       " u'Why',\n",
       " u'Wilt',\n",
       " u'With',\n",
       " u'Woman',\n",
       " u'Ye',\n",
       " u'Yea',\n",
       " u'Yet',\n",
       " u'Zaavan',\n",
       " u'Zaphnathpaaneah',\n",
       " u'Zar',\n",
       " u'Zarah',\n",
       " u'Zeboiim',\n",
       " u'Zeboim',\n",
       " u'Zebul',\n",
       " u'Zebulun',\n",
       " u'Zemarite',\n",
       " u'Zepho',\n",
       " u'Zerah',\n",
       " u'Zibeon',\n",
       " u'Zidon',\n",
       " u'Zillah',\n",
       " u'Zilpah',\n",
       " u'Zimran',\n",
       " u'Ziphion',\n",
       " u'Zo',\n",
       " u'Zoar',\n",
       " u'Zohar',\n",
       " u'Zuzims',\n",
       " u'a',\n",
       " u'abated',\n",
       " u'abide',\n",
       " u'able',\n",
       " u'abode',\n",
       " u'abomination',\n",
       " u'about',\n",
       " u'above',\n",
       " u'abroad',\n",
       " u'absent',\n",
       " u'abundantly',\n",
       " u'accept',\n",
       " u'accepted',\n",
       " u'according',\n",
       " u'acknowledged',\n",
       " u'activity',\n",
       " u'add',\n",
       " u'adder',\n",
       " u'afar',\n",
       " u'afflict',\n",
       " u'affliction',\n",
       " u'afraid',\n",
       " u'after',\n",
       " u'afterward',\n",
       " u'afterwards',\n",
       " u'aga',\n",
       " u'again',\n",
       " u'against',\n",
       " u'age',\n",
       " u'aileth',\n",
       " u'air',\n",
       " u'al',\n",
       " u'alive',\n",
       " u'all',\n",
       " u'almon',\n",
       " u'alo',\n",
       " u'alone',\n",
       " u'aloud',\n",
       " u'also',\n",
       " u'altar',\n",
       " u'altogether',\n",
       " u'always',\n",
       " u'am',\n",
       " u'among',\n",
       " u'amongst',\n",
       " u'an',\n",
       " u'and',\n",
       " u'angel',\n",
       " u'angels',\n",
       " u'anger',\n",
       " u'angry',\n",
       " u'anguish',\n",
       " u'anointedst',\n",
       " u'anoth',\n",
       " u'another',\n",
       " u'answer',\n",
       " u'answered',\n",
       " u'any',\n",
       " u'anything',\n",
       " u'appe',\n",
       " u'appear',\n",
       " u'appeared',\n",
       " u'appease',\n",
       " u'appoint',\n",
       " u'appointed',\n",
       " u'aprons',\n",
       " u'archer',\n",
       " u'archers',\n",
       " u'are',\n",
       " u'arise',\n",
       " u'ark',\n",
       " u'armed',\n",
       " u'arms',\n",
       " u'army',\n",
       " u'arose',\n",
       " u'arrayed',\n",
       " u'art',\n",
       " u'artificer',\n",
       " u'as',\n",
       " u'ascending',\n",
       " u'ash',\n",
       " u'ashamed',\n",
       " u'ask',\n",
       " u'asked',\n",
       " u'asketh',\n",
       " u'ass',\n",
       " u'assembly',\n",
       " u'asses',\n",
       " u'assigned',\n",
       " u'asswaged',\n",
       " u'at',\n",
       " u'attained',\n",
       " u'audience',\n",
       " u'avenged',\n",
       " u'aw',\n",
       " u'awaked',\n",
       " u'away',\n",
       " u'awoke',\n",
       " u'back',\n",
       " u'backward',\n",
       " u'bad',\n",
       " u'bade',\n",
       " u'badest',\n",
       " u'badne',\n",
       " u'bak',\n",
       " u'bake',\n",
       " u'bakemeats',\n",
       " u'baker',\n",
       " u'bakers',\n",
       " u'balm',\n",
       " u'bands',\n",
       " u'bank',\n",
       " u'bare',\n",
       " u'barr',\n",
       " u'barren',\n",
       " u'basket',\n",
       " u'baskets',\n",
       " u'battle',\n",
       " u'bdellium',\n",
       " u'be',\n",
       " u'bear',\n",
       " u'beari',\n",
       " u'bearing',\n",
       " u'beast',\n",
       " u'beasts',\n",
       " u'beautiful',\n",
       " u'became',\n",
       " u'because',\n",
       " u'become',\n",
       " u'bed',\n",
       " u'been',\n",
       " u'befall',\n",
       " u'befell',\n",
       " u'before',\n",
       " u'began',\n",
       " u'begat',\n",
       " u'beget',\n",
       " u'begettest',\n",
       " u'begin',\n",
       " u'beginning',\n",
       " u'begotten',\n",
       " u'beguiled',\n",
       " u'beheld',\n",
       " u'behind',\n",
       " u'behold',\n",
       " u'being',\n",
       " u'believed',\n",
       " u'belly',\n",
       " u'belong',\n",
       " u'beneath',\n",
       " u'bereaved',\n",
       " u'beside',\n",
       " u'besides',\n",
       " u'besought',\n",
       " u'best',\n",
       " u'betimes',\n",
       " u'better',\n",
       " u'between',\n",
       " u'betwixt',\n",
       " u'beyond',\n",
       " u'binding',\n",
       " u'bird',\n",
       " u'birds',\n",
       " u'birthday',\n",
       " u'birthright',\n",
       " u'biteth',\n",
       " u'bitter',\n",
       " u'blame',\n",
       " u'blameless',\n",
       " u'blasted',\n",
       " u'bless',\n",
       " u'blessed',\n",
       " u'blesseth',\n",
       " u'blessi',\n",
       " u'blessing',\n",
       " u'blessings',\n",
       " u'blindness',\n",
       " u'blood',\n",
       " u'blossoms',\n",
       " u'bodies',\n",
       " u'boldly',\n",
       " u'bondman',\n",
       " u'bondmen',\n",
       " u'bondwoman',\n",
       " u'bone',\n",
       " u'bones',\n",
       " u'book',\n",
       " u'booths',\n",
       " u'border',\n",
       " u'borders',\n",
       " u'born',\n",
       " u'bosom',\n",
       " u'both',\n",
       " u'bottle',\n",
       " u'bou',\n",
       " u'boug',\n",
       " u'bough',\n",
       " u'bought',\n",
       " u'bound',\n",
       " u'bow',\n",
       " u'bowed',\n",
       " u'bowels',\n",
       " u'bowing',\n",
       " u'boys',\n",
       " u'bracelets',\n",
       " u'branches',\n",
       " u'brass',\n",
       " u'bre',\n",
       " u'breach',\n",
       " u'bread',\n",
       " u'breadth',\n",
       " u'break',\n",
       " u'breaketh',\n",
       " u'breaking',\n",
       " u'breasts',\n",
       " u'breath',\n",
       " u'breathed',\n",
       " u'breed',\n",
       " u'brethren',\n",
       " u'brick',\n",
       " u'brimstone',\n",
       " u'bring',\n",
       " u'brink',\n",
       " u'broken',\n",
       " u'brook',\n",
       " u'broth',\n",
       " u'brother',\n",
       " u'brought',\n",
       " u'brown',\n",
       " u'bruise',\n",
       " u'budded',\n",
       " u'build',\n",
       " u'builded',\n",
       " u'built',\n",
       " u'bulls',\n",
       " u'bundle',\n",
       " u'bundles',\n",
       " u'burdens',\n",
       " u'buried',\n",
       " u'burn',\n",
       " u'burning',\n",
       " u'burnt',\n",
       " u'bury',\n",
       " u'buryingplace',\n",
       " u'business',\n",
       " u'but',\n",
       " u'butler',\n",
       " u'butlers',\n",
       " u'butlership',\n",
       " u'butter',\n",
       " u'buy',\n",
       " u'by',\n",
       " u'cakes',\n",
       " u'calf',\n",
       " u'call',\n",
       " u'called',\n",
       " u'came',\n",
       " u'camel',\n",
       " u'camels',\n",
       " u'camest',\n",
       " u'can',\n",
       " u'cannot',\n",
       " u'canst',\n",
       " u'captain',\n",
       " u'captive',\n",
       " u'captives',\n",
       " u'carcases',\n",
       " u'carried',\n",
       " u'carry',\n",
       " u'cast',\n",
       " u'castles',\n",
       " u'catt',\n",
       " u'cattle',\n",
       " u'caught',\n",
       " u'cause',\n",
       " u'caused',\n",
       " u'cave',\n",
       " u'cease',\n",
       " u'ceased',\n",
       " u'certain',\n",
       " u'certainly',\n",
       " u'chain',\n",
       " u'chamber',\n",
       " u'change',\n",
       " u'changed',\n",
       " u'changes',\n",
       " u'charge',\n",
       " u'charged',\n",
       " u'chariot',\n",
       " u'chariots',\n",
       " u'chesnut',\n",
       " u'chi',\n",
       " u'chief',\n",
       " u'child',\n",
       " u'childless',\n",
       " u'childr',\n",
       " u'children',\n",
       " u'chode',\n",
       " u'choice',\n",
       " u'chose',\n",
       " u'circumcis',\n",
       " u'circumcise',\n",
       " u'circumcised',\n",
       " u'citi',\n",
       " u'cities',\n",
       " u'city',\n",
       " u'clave',\n",
       " u'clean',\n",
       " u'clear',\n",
       " u'cleave',\n",
       " u'clo',\n",
       " u'closed',\n",
       " u'clothed',\n",
       " u'clothes',\n",
       " u'cloud',\n",
       " u'clusters',\n",
       " u'co',\n",
       " u'coat',\n",
       " u'coats',\n",
       " u'coffin',\n",
       " u'cold',\n",
       " ...]"
      ]
     },
     "execution_count": 23,
     "metadata": {},
     "output_type": "execute_result"
    }
   ],
   "source": [
    "#lista de tokens únicos, en los conjuntos no se incluyen los repetidos\n",
    "sorted(set(text3))"
   ]
  },
  {
   "cell_type": "code",
   "execution_count": 24,
   "metadata": {
    "collapsed": false,
    "deletable": true,
    "editable": true
   },
   "outputs": [
    {
     "data": {
      "text/plain": [
       "2789"
      ]
     },
     "execution_count": 24,
     "metadata": {},
     "output_type": "execute_result"
    }
   ],
   "source": [
    "#tokens únicos del texto: tipos de palabra\n",
    "len(set(text3))"
   ]
  },
  {
   "cell_type": "markdown",
   "metadata": {
    "deletable": true,
    "editable": true
   },
   "source": [
    "Luego una vez que sabemos ambos podemos calcular la riqueza léxica del texto"
   ]
  },
  {
   "cell_type": "code",
   "execution_count": 25,
   "metadata": {
    "collapsed": false,
    "deletable": true,
    "editable": true
   },
   "outputs": [
    {
     "data": {
      "text/plain": [
       "0.06230453042623537"
      ]
     },
     "execution_count": 25,
     "metadata": {},
     "output_type": "execute_result"
    }
   ],
   "source": [
    "#Tokens totales entre tipos de palabras\n",
    "len(set(text3))/len(text3)"
   ]
  },
  {
   "cell_type": "code",
   "execution_count": 26,
   "metadata": {
    "collapsed": false,
    "deletable": true,
    "editable": true
   },
   "outputs": [
    {
     "name": "stdout",
     "output_type": "stream",
     "text": [
      "5\n",
      "1.46430164339\n"
     ]
    }
   ],
   "source": [
    "#Porcentaje de una palabra en el texto\n",
    "print text3.count(\"smote\")\n",
    "\n",
    "print 100 * text4.count('a') / len(text4)"
   ]
  },
  {
   "cell_type": "code",
   "execution_count": 27,
   "metadata": {
    "collapsed": false,
    "deletable": true,
    "editable": true
   },
   "outputs": [
    {
     "data": {
      "text/plain": [
       "1.5640968673628082"
      ]
     },
     "execution_count": 27,
     "metadata": {},
     "output_type": "execute_result"
    }
   ],
   "source": [
    "100 * text5.count('lol')/len(text5)"
   ]
  },
  {
   "cell_type": "code",
   "execution_count": 28,
   "metadata": {
    "collapsed": true,
    "deletable": true,
    "editable": true
   },
   "outputs": [],
   "source": [
    "def lexical_diversity(text):\n",
    "    \"\"\"Calculamos la diversidad léxica del texto que pasamos por parámetro\"\"\"\n",
    "    return len(set(text))/len(text)\n",
    "\n",
    "def porcentaje(count, total):\n",
    "    \"\"\"Porcentaje de la palabra en el texto\"\"\"\n",
    "    return 100*count/total"
   ]
  },
  {
   "cell_type": "markdown",
   "metadata": {
    "deletable": true,
    "editable": true
   },
   "source": [
    "# 3. Estadísticas"
   ]
  },
  {
   "cell_type": "markdown",
   "metadata": {
    "deletable": true,
    "editable": true
   },
   "source": [
    "La distribuciones de frecuencias nos indica la cantidad de veces que aparece una palabra en el texto. Existen varias distribuciones de frecuencias por eso tenemos un objeto con"
   ]
  },
  {
   "cell_type": "code",
   "execution_count": 29,
   "metadata": {
    "collapsed": false,
    "deletable": true,
    "editable": true
   },
   "outputs": [
    {
     "name": "stdout",
     "output_type": "stream",
     "text": [
      "<FreqDist with 19317 samples and 260819 outcomes>\n",
      "[(u',', 18713), (u'the', 13721), (u'.', 6862), (u'of', 6536), (u'and', 6024), (u'a', 4569), (u'to', 4542), (u';', 4072), (u'in', 3916), (u'that', 2982), (u\"'\", 2684), (u'-', 2552), (u'his', 2459), (u'it', 2209), (u'I', 2124), (u's', 1739), (u'is', 1695), (u'he', 1661), (u'with', 1659), (u'was', 1632), (u'as', 1620), (u'\"', 1478), (u'all', 1462), (u'for', 1414), (u'this', 1280), (u'!', 1269), (u'at', 1231), (u'by', 1137), (u'but', 1113), (u'not', 1103), (u'--', 1070), (u'him', 1058), (u'from', 1052), (u'be', 1030), (u'on', 1005), (u'so', 918), (u'whale', 906), (u'one', 889), (u'you', 841), (u'had', 767), (u'have', 760), (u'there', 715), (u'But', 705), (u'or', 697), (u'were', 680), (u'now', 646), (u'which', 640), (u'?', 637), (u'me', 627), (u'like', 624)]\n"
     ]
    }
   ],
   "source": [
    "#calculamos\n",
    "fdist1 = FreqDist(text1)\n",
    "#es un objeto normal\n",
    "print(fdist1)\n",
    "#accedemos las más frecuentes\n",
    "print fdist1.most_common(50)"
   ]
  },
  {
   "cell_type": "code",
   "execution_count": 31,
   "metadata": {
    "collapsed": false,
    "deletable": true,
    "editable": true
   },
   "outputs": [
    {
     "data": {
      "text/plain": [
       "906"
      ]
     },
     "execution_count": 31,
     "metadata": {},
     "output_type": "execute_result"
    }
   ],
   "source": [
    "#Nos devuelve el número de ocurrencias de la palabra \n",
    "fdist1[\"whale\"]"
   ]
  },
  {
   "cell_type": "code",
   "execution_count": 34,
   "metadata": {
    "collapsed": false,
    "deletable": true,
    "editable": true
   },
   "outputs": [
    {
     "data": {
      "image/png": "[encoded data removed]",
      "text/plain": [
       "<matplotlib.figure.Figure at 0xca07ef0>"
      ]
     },
     "metadata": {},
     "output_type": "display_data"
    }
   ],
   "source": [
    "#lo mostramos por gráfica\n",
    "fdist1.plot(50, cumulative=True)"
   ]
  },
  {
   "cell_type": "markdown",
   "metadata": {
    "deletable": true,
    "editable": true
   },
   "source": [
    "Dado que las palabras más frecuentes no nos dan mucha información, vamos a probar las menos probables, llamadas hapaxes. "
   ]
  },
  {
   "cell_type": "code",
   "execution_count": 36,
   "metadata": {
    "collapsed": false,
    "deletable": true,
    "editable": true
   },
   "outputs": [
    {
     "data": {
      "text/plain": [
       "[u'funereal',\n",
       " u'unscientific',\n",
       " u'prefix',\n",
       " u'plaudits',\n",
       " u'woody',\n",
       " u'disobeying',\n",
       " u'Westers',\n",
       " u'DRYDEN',\n",
       " u'Untried',\n",
       " u'superficially',\n",
       " u'vesper',\n",
       " u'Western',\n",
       " u'Spurn',\n",
       " u'treasuries',\n",
       " u'powders',\n",
       " u'tinkerings',\n",
       " u'bolting',\n",
       " u'stabbed',\n",
       " u'elevations',\n",
       " u'ferreting',\n",
       " u'wooded',\n",
       " u'songster',\n",
       " u'Saco',\n",
       " u'clings',\n",
       " u'Winding',\n",
       " u'Sands',\n",
       " u'spindle',\n",
       " u'ornamental',\n",
       " u'charter',\n",
       " u'puissant',\n",
       " u'miller',\n",
       " u'cordially',\n",
       " u'railing',\n",
       " u'mail',\n",
       " u'Hecla',\n",
       " u'compliance',\n",
       " u'haughtily',\n",
       " u'relieving',\n",
       " u'BERMUDAS',\n",
       " u'contributed',\n",
       " u'shamble',\n",
       " u'fossil',\n",
       " u'sneering',\n",
       " u'avers',\n",
       " u'intellects',\n",
       " u'Plate',\n",
       " u'gayer',\n",
       " u'Fiery',\n",
       " u'primogenitures',\n",
       " u'gaffs',\n",
       " u'fissures',\n",
       " u'whiffs',\n",
       " u'unwillingness',\n",
       " u'climbed',\n",
       " u'unfriendly',\n",
       " u'reports',\n",
       " u'circumferences',\n",
       " u'electricity',\n",
       " u'misgrown',\n",
       " u'transfixed',\n",
       " u'NOT',\n",
       " u'rebel',\n",
       " u'precincts',\n",
       " u'shabbily',\n",
       " u'summons',\n",
       " u'Hardicanutes',\n",
       " u'remnant',\n",
       " u'Wales',\n",
       " u'sinew',\n",
       " u'painters',\n",
       " u'cherishing',\n",
       " u'handedness',\n",
       " u'exhort',\n",
       " u'glimmering',\n",
       " u'accommodation',\n",
       " u'occupying',\n",
       " u'reverenced',\n",
       " u'passport',\n",
       " u'icebound',\n",
       " u'suffocated',\n",
       " u'Blind',\n",
       " u'Biographical',\n",
       " u'canonized',\n",
       " u'99',\n",
       " u'diademed',\n",
       " u'menaced',\n",
       " u'91',\n",
       " u'90',\n",
       " u'extorting',\n",
       " u'97',\n",
       " u'tastefully',\n",
       " u'morally',\n",
       " u'PREBLE',\n",
       " u'archaeological',\n",
       " u'moidores',\n",
       " u'ELLERY',\n",
       " u'misfortunes',\n",
       " u'OWEN',\n",
       " u'organized',\n",
       " u'Reality',\n",
       " u'Tartarian',\n",
       " u'kingdoms',\n",
       " u'Unicornism',\n",
       " u'jure',\n",
       " u'provincial',\n",
       " u'hob',\n",
       " u'cavaliers',\n",
       " u'subtleness',\n",
       " u'clews',\n",
       " u'Physiognomist',\n",
       " u'embellishments',\n",
       " u'hesitatingly',\n",
       " u'dignified',\n",
       " u'hoot',\n",
       " u'abstraction',\n",
       " u'MORALS',\n",
       " u'disrated',\n",
       " u'envied',\n",
       " u'homewardbound',\n",
       " u'L1',\n",
       " u'habitude',\n",
       " u'irradiate',\n",
       " u'domed',\n",
       " u'obscuring',\n",
       " u'Arethusa',\n",
       " u'persuasiveness',\n",
       " u'trellised',\n",
       " u'immitigable',\n",
       " u'phrenology',\n",
       " u'sprawling',\n",
       " u'betters',\n",
       " u'wiseish',\n",
       " u'profaned',\n",
       " u'intangible',\n",
       " u'medicament',\n",
       " u'incoherences',\n",
       " u'patrolled',\n",
       " u'TRUE',\n",
       " u'Arkite',\n",
       " u'fix',\n",
       " u'mayst',\n",
       " u'HEREABOUTS',\n",
       " u'DANIEL',\n",
       " u'Glimpses',\n",
       " u'bowstring',\n",
       " u'zag',\n",
       " u'wales',\n",
       " u'alpine',\n",
       " u'feelest',\n",
       " u'grievous',\n",
       " u'copying',\n",
       " u'thrones',\n",
       " u'sneezing',\n",
       " u'disturb',\n",
       " u'Commonly',\n",
       " u'LIGHTNING',\n",
       " u'throned',\n",
       " u'scarfing',\n",
       " u'elevates',\n",
       " u'interrupt',\n",
       " u'slats',\n",
       " u'vernacular',\n",
       " u'represents',\n",
       " u'holiness',\n",
       " u'upliftings',\n",
       " u'dumps',\n",
       " u'1750',\n",
       " u'Dutchman',\n",
       " u'Platonists',\n",
       " u'interfering',\n",
       " u'woes',\n",
       " u'warlike',\n",
       " u'stoneless',\n",
       " u'precedes',\n",
       " u'cathedral',\n",
       " u'allay',\n",
       " u'preciousness',\n",
       " u'misfortune',\n",
       " u'elucidating',\n",
       " u'urbane',\n",
       " u'specialties',\n",
       " u'ponderings',\n",
       " u'cassock',\n",
       " u'outburst',\n",
       " u'Vanity',\n",
       " u'rented',\n",
       " u'stamping',\n",
       " u'higgledy',\n",
       " u'foremastmen',\n",
       " u'Work',\n",
       " u'VISITS',\n",
       " u'dragons',\n",
       " u'Trinity',\n",
       " u'solicited',\n",
       " u'knit',\n",
       " u'Socratic',\n",
       " u'shelves',\n",
       " u'interflow',\n",
       " u'Clinging',\n",
       " u'knobby',\n",
       " u'reserving',\n",
       " u'Niger',\n",
       " u'Rarmai',\n",
       " u'playfully',\n",
       " u'Please',\n",
       " u'sallies',\n",
       " u'FIGURED',\n",
       " u'joyousness',\n",
       " u'clamorous',\n",
       " u'attar',\n",
       " u'Dut',\n",
       " u'WHITE',\n",
       " u'masted',\n",
       " u'lege',\n",
       " u'blossoms',\n",
       " u'unprofessional',\n",
       " u'rummaged',\n",
       " u'banister',\n",
       " u'Ifs',\n",
       " u'fibrous',\n",
       " u'lunges',\n",
       " u'frowned',\n",
       " u'cisterns',\n",
       " u'incoherently',\n",
       " u'mutilated',\n",
       " u'Victory',\n",
       " u'sulphur',\n",
       " u'positively',\n",
       " u'expanding',\n",
       " u'Icebergs',\n",
       " u'Meshach',\n",
       " u'exultation',\n",
       " u'icicle',\n",
       " u'predominating',\n",
       " u'fragrance',\n",
       " u'Cods',\n",
       " u'103',\n",
       " u'besooted',\n",
       " u'Angelo',\n",
       " u'Vice',\n",
       " u'AUGUST',\n",
       " u'willingness',\n",
       " u'orbits',\n",
       " u'keeper',\n",
       " u'Keeping',\n",
       " u'antagonistic',\n",
       " u'Intolerably',\n",
       " u'quay',\n",
       " u'Angels',\n",
       " u'baser',\n",
       " u'dozen',\n",
       " u'forgive',\n",
       " u'kidnap',\n",
       " u'climate',\n",
       " u'Thee',\n",
       " u'responsible',\n",
       " u'metallic',\n",
       " u'circumambient',\n",
       " u'Unicorn',\n",
       " u'warrantry',\n",
       " u'inanimate',\n",
       " u'Wise',\n",
       " u'transactions',\n",
       " u'thrilled',\n",
       " u'Wish',\n",
       " u'looming',\n",
       " u'mouts',\n",
       " u'vicinities',\n",
       " u'retaining',\n",
       " u'thicker',\n",
       " u'bowings',\n",
       " u'stupid',\n",
       " u'episode',\n",
       " u'bisons',\n",
       " u'shiftings',\n",
       " u'Magnitude',\n",
       " u'singed',\n",
       " u'promiscuously',\n",
       " u'scream',\n",
       " u'gorings',\n",
       " u'partiality',\n",
       " u'departing',\n",
       " u'Cambyses',\n",
       " u'blazed',\n",
       " u'liest',\n",
       " u'Rafters',\n",
       " u'pilau',\n",
       " u'cheaply',\n",
       " u'caper',\n",
       " u'swamping',\n",
       " u'unmisgiving',\n",
       " u'cougar',\n",
       " u'overwrapped',\n",
       " u'halfspent',\n",
       " u'upbraiding',\n",
       " u'codfish',\n",
       " u'Belated',\n",
       " u'emphatically',\n",
       " u'petrified',\n",
       " u'freshening',\n",
       " u'umbilical',\n",
       " u'Petrified',\n",
       " u'X',\n",
       " u'Labor',\n",
       " u'uncleanliness',\n",
       " u'ECUADOR',\n",
       " u'Senators',\n",
       " u'Shipmate',\n",
       " u'blanched',\n",
       " u'patch',\n",
       " u'eyelids',\n",
       " u'flanked',\n",
       " u'wearisome',\n",
       " u'respond',\n",
       " u'distortions',\n",
       " u'expediency',\n",
       " u'branding',\n",
       " u'conservatories',\n",
       " u'recruit',\n",
       " u'unexpectedly',\n",
       " u'crouch',\n",
       " u'lots',\n",
       " u'fanged',\n",
       " u'droves',\n",
       " u'RESPECTABLE',\n",
       " u'imposingly',\n",
       " u'discipline',\n",
       " u'queenly',\n",
       " u'parallels',\n",
       " u'extend',\n",
       " u'inextricable',\n",
       " u'toilette',\n",
       " u'Flip',\n",
       " u'twinkling',\n",
       " u'Peterson',\n",
       " u'Arm',\n",
       " u'veer',\n",
       " u'corrupted',\n",
       " u'damsels',\n",
       " u'pestiferously',\n",
       " u'BRACE',\n",
       " u'109',\n",
       " u'wrapping',\n",
       " u'planned',\n",
       " u'Gliding',\n",
       " u'interregnum',\n",
       " u'honouring',\n",
       " u'102',\n",
       " u'charnel',\n",
       " u'clefts',\n",
       " u'gleaming',\n",
       " u'Gently',\n",
       " u'truthful',\n",
       " u'grazing',\n",
       " u'lighthouse',\n",
       " u'101',\n",
       " u'Malay',\n",
       " u'Schmerenburgh',\n",
       " u'interpret',\n",
       " u'tallest',\n",
       " u'fusee',\n",
       " u'worker',\n",
       " u'synod',\n",
       " u'befriending',\n",
       " u'haters',\n",
       " u'forewarnings',\n",
       " u'chill',\n",
       " u'Annawon',\n",
       " u'sanctorum',\n",
       " u'contingencies',\n",
       " u'?--\"',\n",
       " u'unfulfilments',\n",
       " u\"?--'\",\n",
       " u'predestinating',\n",
       " u'opulence',\n",
       " u'epicurean',\n",
       " u'BALLENA',\n",
       " u'Crusaders',\n",
       " u'remembering',\n",
       " u'footstep',\n",
       " u'curvicues',\n",
       " u'actuated',\n",
       " u'locksmith',\n",
       " u'taunts',\n",
       " u'ghastliness',\n",
       " u'Gazette',\n",
       " u'hone',\n",
       " u'Denderah',\n",
       " u'damaged',\n",
       " u'feebler',\n",
       " u'whimsicalities',\n",
       " u'malefactors',\n",
       " u'Antony',\n",
       " u'swarthy',\n",
       " u'gateways',\n",
       " u'visitations',\n",
       " u'provincials',\n",
       " u'toasted',\n",
       " u'Maybe',\n",
       " u'surveying',\n",
       " u'voyaged',\n",
       " u'Persia',\n",
       " u'blister',\n",
       " u'rebut',\n",
       " u'ventricles',\n",
       " u'milliner',\n",
       " u'Betty',\n",
       " u'benignity',\n",
       " u'THAR',\n",
       " u'spurred',\n",
       " u'boyhood',\n",
       " u'Sartain',\n",
       " u'Rabbins',\n",
       " u'sleepe',\n",
       " u'disguise',\n",
       " u'patronise',\n",
       " u'shading',\n",
       " u'succeeding',\n",
       " u'ham',\n",
       " u'SPRINGING',\n",
       " u'sultanically',\n",
       " u'hag',\n",
       " u'Figuera',\n",
       " u'Connecticut',\n",
       " u'shoemaker',\n",
       " u'unblinkingly',\n",
       " u'elevation',\n",
       " u'elders',\n",
       " u'survival',\n",
       " u'thermometer',\n",
       " u'lengthen',\n",
       " u'rocket',\n",
       " u'hermaphroditical',\n",
       " u'TAKEN',\n",
       " u'unique',\n",
       " u'bushy',\n",
       " u'county',\n",
       " u'phrensied',\n",
       " u'marquee',\n",
       " u'repassing',\n",
       " u'Ezekiel',\n",
       " u'remind',\n",
       " u'pavement',\n",
       " u'scuppers',\n",
       " u'continuation',\n",
       " u'vats',\n",
       " u'warping',\n",
       " u'Literally',\n",
       " u'creed',\n",
       " u'fagot',\n",
       " u'animate',\n",
       " u'ruffled',\n",
       " u'goggling',\n",
       " u'ruffles',\n",
       " u'Epitome',\n",
       " u'pinched',\n",
       " u'Watts',\n",
       " u'sisterly',\n",
       " u'mildewed',\n",
       " u'trencher',\n",
       " u'clearer',\n",
       " u'Thine',\n",
       " u'falsified',\n",
       " u'Remote',\n",
       " u'bamboo',\n",
       " u'officiating',\n",
       " u'transcends',\n",
       " u'restlessness',\n",
       " u'anomalous',\n",
       " u'cheeriest',\n",
       " u'scimetar',\n",
       " u'Stretched',\n",
       " u'Shake',\n",
       " u'festoons',\n",
       " u'eightieth',\n",
       " u'Constantine',\n",
       " u'Strength',\n",
       " u'sod',\n",
       " u'facility',\n",
       " u'voicelessly',\n",
       " u'honeymoon',\n",
       " u'Dragon',\n",
       " u'brutes',\n",
       " u'Muezzin',\n",
       " u'wrap',\n",
       " u'gardening',\n",
       " u'unsays',\n",
       " u'dotings',\n",
       " u'Ghent',\n",
       " u'MEMORIAL',\n",
       " u'despised',\n",
       " u'horrify',\n",
       " u'spraining',\n",
       " u'Hang',\n",
       " u'authorized',\n",
       " u'Awful',\n",
       " u'spicin',\n",
       " u'circulate',\n",
       " u'Fernandes',\n",
       " u'Mastodon',\n",
       " u'bivouacks',\n",
       " u'remarking',\n",
       " u'wrinkling',\n",
       " u'hemisphere',\n",
       " u'interdicted',\n",
       " u'perfumed',\n",
       " u'SPLICE',\n",
       " u'amusing',\n",
       " u'compendious',\n",
       " u'unhinted',\n",
       " u'omnisciently',\n",
       " u'sourceless',\n",
       " u'genealogy',\n",
       " u'demonstrations',\n",
       " u'pest',\n",
       " u'sinecure',\n",
       " u'Bress',\n",
       " u'juvenile',\n",
       " u\"';\",\n",
       " u'gibbering',\n",
       " u'signification',\n",
       " u'sprouts',\n",
       " u'Sin',\n",
       " u'triangles',\n",
       " u'Wretched',\n",
       " u'protested',\n",
       " u'eventual',\n",
       " u'roly',\n",
       " u'ROBERT',\n",
       " u'imparting',\n",
       " u'nestling',\n",
       " u'yourselbs',\n",
       " u'fleeces',\n",
       " u'guineas',\n",
       " u'incidental',\n",
       " u'Retribution',\n",
       " u'sulkies',\n",
       " u'teats',\n",
       " u'officio',\n",
       " u'ointment',\n",
       " u'Mohawk',\n",
       " u'comely',\n",
       " u'Arkansas',\n",
       " u'Ebony',\n",
       " u'ANNUS',\n",
       " u'approvingly',\n",
       " u'Englander',\n",
       " u'whets',\n",
       " u'diadem',\n",
       " u'98',\n",
       " u'cycloid',\n",
       " u'beamed',\n",
       " u'WHALESHIPS',\n",
       " u'Affrighted',\n",
       " u'fastener',\n",
       " u'ren',\n",
       " u'openmouthed',\n",
       " u'frenzy',\n",
       " u'samphire',\n",
       " u'BOSOM',\n",
       " u'gown',\n",
       " u'Consumptive',\n",
       " u'whencesoe',\n",
       " u'MCCULLOCH',\n",
       " u'Blacksmith',\n",
       " u'nephew',\n",
       " u'balmy',\n",
       " u'growlingly',\n",
       " u'pomps',\n",
       " u'fawned',\n",
       " u'rousing',\n",
       " u'gashed',\n",
       " u'grappled',\n",
       " u'Lighting',\n",
       " u'howlings',\n",
       " u'irksome',\n",
       " u'propellers',\n",
       " u'quaintness',\n",
       " u'SENTENCE',\n",
       " u'whaleship',\n",
       " u'Hannibal',\n",
       " u'AS',\n",
       " u'stubble',\n",
       " u'cooks',\n",
       " u'sailer',\n",
       " u'inscribed',\n",
       " u'inclination',\n",
       " u'Patience',\n",
       " u'tremendousness',\n",
       " u'accomplishment',\n",
       " u'thinkers',\n",
       " u'attic',\n",
       " u'sigh',\n",
       " u'prediction',\n",
       " u'steaks',\n",
       " u'lengthened',\n",
       " u'gnawed',\n",
       " u'Loom',\n",
       " u'crescent',\n",
       " u'problematical',\n",
       " u'unconquering',\n",
       " u'BELFAST',\n",
       " u'SORTS',\n",
       " u'PRESSED',\n",
       " u'weightiest',\n",
       " u'coppers',\n",
       " u'56',\n",
       " u'celebrated',\n",
       " u'maddens',\n",
       " u'melt',\n",
       " u'Roll',\n",
       " u'wayward',\n",
       " u'deadening',\n",
       " u'crashing',\n",
       " u'oilpainting',\n",
       " u'realizing',\n",
       " u'Colossus',\n",
       " u'jury',\n",
       " u'sweeter',\n",
       " u'AFRICA',\n",
       " u'OCTHER',\n",
       " u'Mt',\n",
       " u'magnetism',\n",
       " u'abhorrence',\n",
       " u'centralization',\n",
       " u'leopards',\n",
       " u'averse',\n",
       " u'JONAH',\n",
       " u'sawn',\n",
       " u'vitiated',\n",
       " u'studies',\n",
       " u'mindedness',\n",
       " u'inexpressive',\n",
       " u'melodious',\n",
       " u'ironical',\n",
       " u'overruns',\n",
       " u'crammed',\n",
       " u'Cruppered',\n",
       " u'quiescence',\n",
       " u'angry',\n",
       " u'pelisse',\n",
       " u'imaginations',\n",
       " u'opposed',\n",
       " u'scratched',\n",
       " u'conciliating',\n",
       " u'approving',\n",
       " u'divinest',\n",
       " u'disparagement',\n",
       " u'behalf',\n",
       " u'Lit',\n",
       " u'Locke',\n",
       " u'abortion',\n",
       " u'inflamed',\n",
       " u'incites',\n",
       " u'printing',\n",
       " u'Unappalled',\n",
       " u'slowness',\n",
       " u'mirrors',\n",
       " u'frogs',\n",
       " u'Inward',\n",
       " u'YARD',\n",
       " u'Symphony',\n",
       " u'seignories',\n",
       " u'lookouts',\n",
       " u'laugheth',\n",
       " u'stunning',\n",
       " u'recrossed',\n",
       " u'buttered',\n",
       " u'northwards',\n",
       " u'bridals',\n",
       " u'snaps',\n",
       " u'odorless',\n",
       " u'mastheads',\n",
       " u'spos',\n",
       " u'tyros',\n",
       " u'AGAINST',\n",
       " u'godhead',\n",
       " u'breasted',\n",
       " u'date',\n",
       " u'suck',\n",
       " u'stress',\n",
       " u'Monkey',\n",
       " u'Squaring',\n",
       " u'naturae',\n",
       " u'attainable',\n",
       " u'hoo',\n",
       " u'truce',\n",
       " u'prescription',\n",
       " u'LIE',\n",
       " u'unsolicited',\n",
       " u'Philip',\n",
       " u'blusterer',\n",
       " u'heraldic',\n",
       " u'ENTER',\n",
       " u'CLEAN',\n",
       " u'spearings',\n",
       " u'mongering',\n",
       " u'professors',\n",
       " u'elm',\n",
       " u'experiments',\n",
       " u'ungentlemanly',\n",
       " u'deity',\n",
       " u'thoughtfulness',\n",
       " u'internationally',\n",
       " u'Navis',\n",
       " u'attraction',\n",
       " u'nomenclature',\n",
       " u'revulsion',\n",
       " u'Cousin',\n",
       " u'dough',\n",
       " u'subterraneousness',\n",
       " u'bestirring',\n",
       " u'matches',\n",
       " u'bashful',\n",
       " u'records',\n",
       " u'concocts',\n",
       " u'Galleries',\n",
       " u'Aboard',\n",
       " u'SPITZBERGEN',\n",
       " u'breezing',\n",
       " u'revery',\n",
       " u'WISE',\n",
       " u'pealing',\n",
       " u'Yellow',\n",
       " u'establishing',\n",
       " u'exactitude',\n",
       " u'abided',\n",
       " u'classify',\n",
       " u'suspends',\n",
       " u'Lents',\n",
       " u'repaired',\n",
       " u'trampled',\n",
       " u'turtle',\n",
       " u'HEAD',\n",
       " u'Mephistophelean',\n",
       " u'Alley',\n",
       " u'prudently',\n",
       " u'giddy',\n",
       " u';--\"',\n",
       " u'cobs',\n",
       " u'unsplinterable',\n",
       " u'Joy',\n",
       " u'5TH',\n",
       " u'shored',\n",
       " u'swordsman',\n",
       " u'technicals',\n",
       " u'Sachem',\n",
       " u'investigation',\n",
       " u'Joe',\n",
       " u'slicings',\n",
       " u'superiors',\n",
       " u'uninvitedly',\n",
       " u'firmaments',\n",
       " u'Edmund',\n",
       " u'Julys',\n",
       " u'spavined',\n",
       " u'emulation',\n",
       " u'Mixed',\n",
       " u'quits',\n",
       " u'scarred',\n",
       " u'liberally',\n",
       " u'amplify',\n",
       " u'basso',\n",
       " u'tasting',\n",
       " u'undigested',\n",
       " u'ostrich',\n",
       " u'disguises',\n",
       " u'conduits',\n",
       " u'Sunset',\n",
       " u'neglect',\n",
       " u'jumbled',\n",
       " u'saving',\n",
       " u'err',\n",
       " u'symmetry',\n",
       " u'Blanco',\n",
       " u'upcast',\n",
       " u'tissues',\n",
       " u'boomed',\n",
       " u'unmanifested',\n",
       " u'chums',\n",
       " u'elaboration',\n",
       " u'soliloquizing',\n",
       " u'draft',\n",
       " u'HATCHWAY',\n",
       " u'begotten',\n",
       " u'Met',\n",
       " u'cite',\n",
       " u'snuffers',\n",
       " u'prone',\n",
       " u'unmoor',\n",
       " u'stiver',\n",
       " u'sentinels',\n",
       " u'surges',\n",
       " u'proving',\n",
       " u'tombstones',\n",
       " u'prowling',\n",
       " u'LETTER',\n",
       " u'inventor',\n",
       " u'Rensselaers',\n",
       " u'overtaken',\n",
       " u'depressed',\n",
       " u'stammer',\n",
       " u'siding',\n",
       " u'cavalier',\n",
       " u'companionable',\n",
       " u'illness',\n",
       " u'veracity',\n",
       " u'notabilities',\n",
       " u'Regarded',\n",
       " u'tastes',\n",
       " u'beehive',\n",
       " u'decrees',\n",
       " u'Mistress',\n",
       " u'cenotaphs',\n",
       " u'VOYAGER',\n",
       " u'wink',\n",
       " u'heartwoes',\n",
       " u'Congregation',\n",
       " u'convulsive',\n",
       " u'Hall',\n",
       " u'Monadnock',\n",
       " u'indebted',\n",
       " u'SCORESBY',\n",
       " u'subtilty',\n",
       " u'TIMES',\n",
       " u'Boone',\n",
       " u'weazel',\n",
       " u'overtakes',\n",
       " u'stilts',\n",
       " u'touchy',\n",
       " u'blockhead',\n",
       " u'cocoanut',\n",
       " u'cushioned',\n",
       " u'refining',\n",
       " u'phiz',\n",
       " u'sovereignest',\n",
       " u'dimensioned',\n",
       " u'unassailable',\n",
       " u'lotus',\n",
       " u'hish',\n",
       " u'hustings',\n",
       " u'mince',\n",
       " u'lettered',\n",
       " u'forking',\n",
       " u'Wants',\n",
       " u'Quoin',\n",
       " u'Ptolemy',\n",
       " u'cloak',\n",
       " u'aimlessly',\n",
       " u'liberation',\n",
       " u'Historians',\n",
       " u'equipped',\n",
       " u'Snatch',\n",
       " u'dispute',\n",
       " u'hindmost',\n",
       " u'guarded',\n",
       " u'unrustlingly',\n",
       " u'cursing',\n",
       " u'outlet',\n",
       " u'EXCHANGING',\n",
       " u'Richard',\n",
       " u'creamed',\n",
       " u'UNWINDING',\n",
       " u'unconcluded',\n",
       " u'GATHER',\n",
       " u'borrow',\n",
       " u'absurdly',\n",
       " u'worried',\n",
       " u'recurred',\n",
       " u'16th',\n",
       " u'fuzzing',\n",
       " u';\"--',\n",
       " u'gout',\n",
       " u'MEN',\n",
       " u'temperance',\n",
       " u'attenuated',\n",
       " u'soothingly',\n",
       " u'fertility',\n",
       " u'overflowed',\n",
       " u'Babylon',\n",
       " u'requirest',\n",
       " u'humorists',\n",
       " u'plummet',\n",
       " u'enlightening',\n",
       " u'parchingly',\n",
       " u'sites',\n",
       " u'denizen',\n",
       " u'procedures',\n",
       " u'fierceness',\n",
       " u'twigging',\n",
       " u'satiety',\n",
       " u'claret',\n",
       " u'untainted',\n",
       " u'forsake',\n",
       " u'impregnated',\n",
       " u'screen',\n",
       " u'banterings',\n",
       " u'TERROREM',\n",
       " u'concentrate',\n",
       " u'spark',\n",
       " u'suppressed',\n",
       " u'majestically',\n",
       " u'1729',\n",
       " u'1726',\n",
       " u'flipped',\n",
       " u'Sorrows',\n",
       " u'unflattering',\n",
       " u'Zoology',\n",
       " u'Kant',\n",
       " u'yearly',\n",
       " u'snuffling',\n",
       " u'loveliest',\n",
       " u'hollowing',\n",
       " u'LANTERNS',\n",
       " u'glutinous',\n",
       " u'ants',\n",
       " u'Hogarthian',\n",
       " u'Comparing',\n",
       " u'anti',\n",
       " u'geese',\n",
       " u'rollings',\n",
       " u'unconsciousness',\n",
       " u'vacation',\n",
       " u'distinguishing',\n",
       " u'vacuity',\n",
       " u'Pious',\n",
       " u'hilarity',\n",
       " u'lanes',\n",
       " u'searches',\n",
       " u'Whenever',\n",
       " u'inlayings',\n",
       " u'pettiness',\n",
       " u'nill',\n",
       " u'endures',\n",
       " u'overcome',\n",
       " u'whelmings',\n",
       " u'drugging',\n",
       " u'CANNY',\n",
       " u'supervision',\n",
       " u'chamois',\n",
       " u'discolour',\n",
       " u'reasonableness',\n",
       " u'mutineers',\n",
       " u'regularity',\n",
       " u'EYES',\n",
       " u'ligature',\n",
       " u'heterogeneously',\n",
       " u'Jebb',\n",
       " u'soladoes',\n",
       " u'mealtimes',\n",
       " u'shuts',\n",
       " u'threatens',\n",
       " u'perpetually',\n",
       " u'fewer',\n",
       " u'surveillance',\n",
       " u'Grisly',\n",
       " u'inoffensive',\n",
       " u'assigns',\n",
       " u'errantism',\n",
       " u'vouchers',\n",
       " u'barber',\n",
       " u'aboriginally',\n",
       " u'banteringly',\n",
       " u'Logan',\n",
       " u'veal',\n",
       " u'concentred',\n",
       " u'Port',\n",
       " u'diaboli',\n",
       " u'adoring',\n",
       " u'statistics',\n",
       " u'indulge',\n",
       " u'exaggerating',\n",
       " u'ILE',\n",
       " u'NAT',\n",
       " u'TOOKE',\n",
       " u'weekly',\n",
       " u'mimicking',\n",
       " u'deceiving',\n",
       " u'medals',\n",
       " u'shrines',\n",
       " u'Dashing',\n",
       " u'plumes',\n",
       " u'structural',\n",
       " u'Coppered',\n",
       " u'defection',\n",
       " u'unquiet',\n",
       " u'tissued',\n",
       " u'cranium',\n",
       " u'vacuum',\n",
       " u'inferiors',\n",
       " u'snare',\n",
       " u'61',\n",
       " u'clad',\n",
       " u'wordless',\n",
       " u'62',\n",
       " u'shutter',\n",
       " u'caudam',\n",
       " u'inter',\n",
       " u'kennel',\n",
       " u'Perry',\n",
       " ...]"
      ]
     },
     "execution_count": 36,
     "metadata": {},
     "output_type": "execute_result"
    }
   ],
   "source": [
    "fdist1.hapaxes()"
   ]
  },
  {
   "cell_type": "markdown",
   "metadata": {
    "deletable": true,
    "editable": true
   },
   "source": [
    "Otra teoría dice que las palabras largas son las que contienen mayor cantidad de información, así que vamos a filtrar las palabras de los textos para localizar aquellas palabras cuya longitud sea mayor que la mayoría del texto."
   ]
  },
  {
   "cell_type": "code",
   "execution_count": 38,
   "metadata": {
    "collapsed": false,
    "deletable": true,
    "editable": true
   },
   "outputs": [
    {
     "name": "stdout",
     "output_type": "stream",
     "text": [
      "[u'CIRCUMNAVIGATION', u'Physiognomically', u'apprehensiveness', u'cannibalistically', u'characteristically', u'circumnavigating', u'circumnavigation', u'circumnavigations', u'comprehensiveness', u'hermaphroditical', u'indiscriminately', u'indispensableness', u'irresistibleness', u'physiognomically', u'preternaturalness', u'responsibilities', u'simultaneousness', u'subterraneousness', u'supernaturalness', u'superstitiousness', u'uncomfortableness', u'uncompromisedness', u'undiscriminating', u'uninterpenetratingly']\n"
     ]
    }
   ],
   "source": [
    "#seleccionamos los tokens del texto quitando repetidos con set\n",
    "V=set(text1)\n",
    "long_words=[w for w in V if len(w)>15]\n",
    "print sorted(long_words)"
   ]
  },
  {
   "cell_type": "code",
   "execution_count": 39,
   "metadata": {
    "collapsed": false,
    "deletable": true,
    "editable": true
   },
   "outputs": [
    {
     "name": "stdout",
     "output_type": "stream",
     "text": [
      "[u'!!!!!!!!!!!!!!!!', u'!!!!!!!!!!!!!!!!!!!!!!', u'!!!!!!!!!!!!!!!!!!!!!!!', u'!!!!!!!!!!!!!!!!!!!!!!!!!!!', u'!!!!!!!!!!!!!!!!!!!!!!!!!!!!', u'!!!!!!!!!!!!!!!!!!!!!!!!!!!!!!!!!!!!!!!!!!!!!!!!!!!!!!', u'#talkcity_adults', u'(((((((((((((((((', u'((((((((((((((((((', u'((((((((((((((((((((', u'(((((((((((((((((((((', u'(((((((((((((((((((((((', u'((((((((((((((((((((((((', u'(((((((((((((((((((((((((', u'((((((((((((((((((((((((((', u')))))))))))))))))', u')))))))))))))))))))', u')))))))))))))))))))))', u'))))))))))))))))))))))', u'))))))))))))))))))))))))))))', u')))))))))))))))))))))))))))))))', u'--------------------', u'.(..(.vMp3 v1.7.4.).)', u'.(..(.vMp3 vi.p.t.)..).', u'................', u'..................', u'...................', u'....................', u'........................', u'..............................', u'.A.n.a.c.?.n.?.a.', u'//www.wunderground.com/cgi-bin/findweather/getForecast?query=95953#FIR', u'<3333333333333333', u'<33333333333333333', u'BAAAAALLLLLLLLIIIIIIINNNNNNNNNNN', u'Bloooooooooooood', u'HHEEYYYYYYYYYYYYYYYYYYYYYYYYYYYYYYYYYYYYYYYYYYYYYYY', u'HolocaustYourMom', u'Mooooooooooooooooooooooooooo', u'Nooooooooooooooo', u'WEEEEEEEEEEEEEEEEEE', u'[[[[[[[[[[[[[[[[[[', u']]]]]]]]]]]]]]]]]]]]]', u'aaaaaaaaaaaaaaaaa', u'agurlwithbigguns', u'aiiiiiiiiiiiiiiiiiiiiiiii', u'anyyyyyyyyyyyyyyyyy', u'backfrontsidewaysandallaroundtheworld', u'bbbbbyyyyyyyeeeeeeeee', u'boooooooooooglyyyyyy', u'bwahahahahahahahahahaha', u'cooooooooookiiiiiiiiiiiieeeeeeeeeeee', u'eeeeeeeeewwwwwwww', u'grrrrrrrrrrrrrrrrr', u'hahahahahahahahahahahahahahahaha', u'heeheeheeheeheehee', u'heyyyyyyyyyyyyyy', u'http://forums.talkcity.com/tc-adults/start ', u'http://www.shadowbots.com', u'huuuuuuuuuuuuuuuuuuuuuuuuuuuuuuuuuuugZ', u'iamahotniplickme', u'iamahotnipwithhotnippics', u'iamahotnipwithpics', u'lllllllliiiiiiiiiikeee', u'llloooozzzzeeerrrrzzzzzzzzzzzzzzzzzzzzzzzzzzzzzzzzzzzzzzzzzzzzzzzzz', u'miiiiiiiiiiiiinnnnnnnnnnneeeeeeeeee', u'miiiiiinnnnnnnnnneeeeeeee', u'mikeeeeeeeeeeeeeeeeeeeeeeeeee', u'mmmmmmmmiiiiiiiiinnnnnnnnneeeeeeee', u'muahssssssssssssssss', u'muahsssssssssssssssssss', u'niteeeeeeeeeeeeeeeeeee', u'ohhhhhhhhhhhhhhhh', u'oooooooooooglyyyyyyyy', u'oooooooooooooonnnnnnnnnnnneeeeeeeeeeeeeeesssssssss', u'raaaaaaaaaaaaaaaaaaaaaaaaaaaaa', u'tatatatnanaantatat', u'weeeeeeeeeeeeeeee', u'weeeeeeeeeeeeeeeeeeeeeeeeed', u'wheeeeeeeeeeeeeeeeeeeeeeeeeeeeeeeeee', u'woooooooooaaaahhhhhhhhhhhh', u'wooooooooooooohoooooooooooooooo', u'www.Wunderground.com', u'yuuuuuuuuuuuummmmmmmmmmmm']\n"
     ]
    }
   ],
   "source": [
    "V=set(text5)\n",
    "long_words=[w for w in V if len(w)>15]\n",
    "print sorted(long_words)"
   ]
  },
  {
   "cell_type": "markdown",
   "metadata": {
    "deletable": true,
    "editable": true
   },
   "source": [
    "En el text5 al ser texto informal encontramos muchas palabras inservibles para caracterizar el texto, generalmente hapaxes. Igual nos interesan las palabras más largas entre las más frecuentes."
   ]
  },
  {
   "cell_type": "code",
   "execution_count": 41,
   "metadata": {
    "collapsed": false,
    "deletable": true,
    "editable": true
   },
   "outputs": [
    {
     "name": "stdout",
     "output_type": "stream",
     "text": [
      "[u'#14-19teens', u'#talkcity_adults', u'((((((((((', u'........', u'Question', u'actually', u'anything', u'computer', u'cute.-ass', u'everyone', u'football', u'innocent', u'listening', u'remember', u'seriously', u'something', u'together', u'tomorrow', u'watching']\n"
     ]
    }
   ],
   "source": [
    "fdist5 = FreqDist(text5)\n",
    "long_words2=[w for w in set(fdist5) if len(w)>7 and fdist5[w]>7]\n",
    "print sorted(long_words2)"
   ]
  },
  {
   "cell_type": "markdown",
   "metadata": {
    "deletable": true,
    "editable": true
   },
   "source": [
    "Una **colocación** es una secuencia de palabras que ocurren juntas inusualmente a menudo. Así, el *vino tinto* es una colocación, mientras que *el vino* no lo es. Una característica de las colocaciones es que son resistentes a la sustitución con palabras que tienen sentidos similares.\n",
    "\n",
    "**Bigrams** son conjuntos de dos palabras a partir de una lista de palabras."
   ]
  },
  {
   "cell_type": "code",
   "execution_count": 2,
   "metadata": {
    "collapsed": false,
    "deletable": true,
    "editable": true
   },
   "outputs": [
    {
     "data": {
      "text/plain": [
       "[('more', 'is'), ('is', 'said'), ('said', 'than'), ('than', 'done')]"
      ]
     },
     "execution_count": 2,
     "metadata": {},
     "output_type": "execute_result"
    }
   ],
   "source": [
    "from nltk.util import *\n",
    "list(bigrams(['more', 'is', 'said', 'than', 'done']))"
   ]
  },
  {
   "cell_type": "markdown",
   "metadata": {
    "collapsed": true,
    "deletable": true,
    "editable": true
   },
   "source": [
    "Las colocaciones son bigramas frecuentes que además contienen palabras raras. Para ello usamos el método `collocations()`"
   ]
  },
  {
   "cell_type": "code",
   "execution_count": 5,
   "metadata": {
    "collapsed": false
   },
   "outputs": [
    {
     "name": "stdout",
     "output_type": "stream",
     "text": [
      "United States; fellow citizens; four years; years ago; Federal\n",
      "Government; General Government; American people; Vice President; Old\n",
      "World; Almighty God; Fellow citizens; Chief Magistrate; Chief Justice;\n",
      "God bless; every citizen; Indian tribes; public debt; one another;\n",
      "foreign nations; political parties\n"
     ]
    }
   ],
   "source": [
    "text4.collocations()"
   ]
  },
  {
   "cell_type": "code",
   "execution_count": 6,
   "metadata": {
    "collapsed": false
   },
   "outputs": [
    {
     "name": "stdout",
     "output_type": "stream",
     "text": [
      "would like; medium build; social drinker; quiet nights; non smoker;\n",
      "long term; age open; Would like; easy going; financially secure; fun\n",
      "times; similar interests; Age open; weekends away; poss rship; well\n",
      "presented; never married; single mum; permanent relationship; slim\n",
      "build\n"
     ]
    }
   ],
   "source": [
    "text8.collocations()"
   ]
  },
  {
   "cell_type": "markdown",
   "metadata": {},
   "source": [
    "Podemos contar otras cosas como por ejemplo analizar la distribución de la longitud de palabras en el texto."
   ]
  },
  {
   "cell_type": "code",
   "execution_count": 7,
   "metadata": {
    "collapsed": false
   },
   "outputs": [
    {
     "name": "stdout",
     "output_type": "stream",
     "text": [
      "<FreqDist with 19 samples and 260819 outcomes>\n"
     ]
    },
    {
     "data": {
      "text/plain": [
       "FreqDist({1: 47933,\n",
       "          2: 38513,\n",
       "          3: 50223,\n",
       "          4: 42345,\n",
       "          5: 26597,\n",
       "          6: 17111,\n",
       "          7: 14399,\n",
       "          8: 9966,\n",
       "          9: 6428,\n",
       "          10: 3528,\n",
       "          11: 1873,\n",
       "          12: 1053,\n",
       "          13: 567,\n",
       "          14: 177,\n",
       "          15: 70,\n",
       "          16: 22,\n",
       "          17: 12,\n",
       "          18: 1,\n",
       "          20: 1})"
      ]
     },
     "execution_count": 7,
     "metadata": {},
     "output_type": "execute_result"
    }
   ],
   "source": [
    "#Creamos una lista que contiene la longitud de palabra de cada palabra en el texto\n",
    "long_dist=[len(w) for w in text1]\n",
    "#creamos una distribución de frecuencias\n",
    "fdist_lw=FreqDist(long_dist)\n",
    "print(fdist_lw)\n",
    "fdist_lw"
   ]
  },
  {
   "cell_type": "code",
   "execution_count": 8,
   "metadata": {
    "collapsed": false
   },
   "outputs": [
    {
     "name": "stdout",
     "output_type": "stream",
     "text": [
      "[(3, 50223), (1, 47933), (4, 42345), (2, 38513), (5, 26597), (6, 17111), (7, 14399), (8, 9966), (9, 6428), (10, 3528), (11, 1873), (12, 1053), (13, 567), (14, 177), (15, 70), (16, 22), (17, 12), (18, 1), (20, 1)]\n",
      "3\n",
      "50223\n",
      "0.192558824319\n"
     ]
    }
   ],
   "source": [
    "#¿Cuáles son las más normales?\n",
    "print fdist_lw.most_common()\n",
    "#¿cuál es el máximo?\n",
    "print fdist_lw.max()\n",
    "#En inglés la longitud de palabra más normal suele ser 3\n",
    "print fdist_lw[3] #Cantidad de palabras de longitud 3\n",
    "print fdist_lw.freq(3) #porcentaje del total cuya longitud es 3\n"
   ]
  },
  {
   "cell_type": "code",
   "execution_count": 9,
   "metadata": {
    "collapsed": false
   },
   "outputs": [
    {
     "name": "stdout",
     "output_type": "stream",
     "text": [
      "    3     1     4     2     5     6     7     8     9    10    11    12    13    14    15    16    17    18    20 \n",
      "50223 47933 42345 38513 26597 17111 14399  9966  6428  3528  1873  1053   567   177    70    22    12     1     1 \n"
     ]
    }
   ],
   "source": [
    "fdist_lw.tabulate()"
   ]
  },
  {
   "cell_type": "markdown",
   "metadata": {},
   "source": [
    "# Ejercicios"
   ]
  },
  {
   "cell_type": "markdown",
   "metadata": {},
   "source": [
    "Try using the Python interpreter as a calculator, and typing expressions like 12 / (4 + 1)."
   ]
  },
  {
   "cell_type": "code",
   "execution_count": 10,
   "metadata": {
    "collapsed": false
   },
   "outputs": [
    {
     "data": {
      "text/plain": [
       "2.4"
      ]
     },
     "execution_count": 10,
     "metadata": {},
     "output_type": "execute_result"
    }
   ],
   "source": [
    "12/(4+1)"
   ]
  },
  {
   "cell_type": "markdown",
   "metadata": {},
   "source": [
    "Given an alphabet of 26 letters, there are 26 to the power 10, or `26 ** 10`, ten-letter strings we can form. That works out to 141167095653376. How many hundred-letter strings are possible?"
   ]
  },
  {
   "cell_type": "code",
   "execution_count": 11,
   "metadata": {
    "collapsed": false
   },
   "outputs": [
    {
     "data": {
      "text/plain": [
       "3142930641582938830174357788501626427282669988762475256374173175398995908420104023465432599069702289330964075081611719197835869803511992549376L"
      ]
     },
     "execution_count": 11,
     "metadata": {},
     "output_type": "execute_result"
    }
   ],
   "source": [
    "26**100"
   ]
  },
  {
   "cell_type": "markdown",
   "metadata": {},
   "source": [
    "The Python multiplication operation can be applied to lists. What happens when you type `['Monty', 'Python'] * 20`, or `3 * sent1`?"
   ]
  },
  {
   "cell_type": "code",
   "execution_count": 12,
   "metadata": {
    "collapsed": false
   },
   "outputs": [
    {
     "data": {
      "text/plain": [
       "['Monty',\n",
       " 'Python',\n",
       " 'Monty',\n",
       " 'Python',\n",
       " 'Monty',\n",
       " 'Python',\n",
       " 'Monty',\n",
       " 'Python',\n",
       " 'Monty',\n",
       " 'Python',\n",
       " 'Monty',\n",
       " 'Python',\n",
       " 'Monty',\n",
       " 'Python',\n",
       " 'Monty',\n",
       " 'Python',\n",
       " 'Monty',\n",
       " 'Python',\n",
       " 'Monty',\n",
       " 'Python',\n",
       " 'Monty',\n",
       " 'Python',\n",
       " 'Monty',\n",
       " 'Python',\n",
       " 'Monty',\n",
       " 'Python',\n",
       " 'Monty',\n",
       " 'Python',\n",
       " 'Monty',\n",
       " 'Python',\n",
       " 'Monty',\n",
       " 'Python',\n",
       " 'Monty',\n",
       " 'Python',\n",
       " 'Monty',\n",
       " 'Python',\n",
       " 'Monty',\n",
       " 'Python',\n",
       " 'Monty',\n",
       " 'Python']"
      ]
     },
     "execution_count": 12,
     "metadata": {},
     "output_type": "execute_result"
    }
   ],
   "source": [
    "['Monty', 'Python'] * 20"
   ]
  },
  {
   "cell_type": "code",
   "execution_count": 13,
   "metadata": {
    "collapsed": false
   },
   "outputs": [
    {
     "data": {
      "text/plain": [
       "['Call',\n",
       " 'me',\n",
       " 'Ishmael',\n",
       " '.',\n",
       " 'Call',\n",
       " 'me',\n",
       " 'Ishmael',\n",
       " '.',\n",
       " 'Call',\n",
       " 'me',\n",
       " 'Ishmael',\n",
       " '.']"
      ]
     },
     "execution_count": 13,
     "metadata": {},
     "output_type": "execute_result"
    }
   ],
   "source": [
    "3 * sent1"
   ]
  },
  {
   "cell_type": "markdown",
   "metadata": {},
   "source": [
    "Review 1 on computing with language. How many words are there in text2? How many distinct words are there?"
   ]
  },
  {
   "cell_type": "code",
   "execution_count": 16,
   "metadata": {
    "collapsed": false
   },
   "outputs": [
    {
     "name": "stdout",
     "output_type": "stream",
     "text": [
      "Número de palabras en  text2: 141576. Palabras distintas 6833\n"
     ]
    }
   ],
   "source": [
    "print(\"Número de palabras en  text2: {0}. Palabras distintas {1}\".format(len(text2),len(set(text2))))"
   ]
  },
  {
   "cell_type": "markdown",
   "metadata": {},
   "source": [
    "Compare the lexical diversity scores for humor and romance fiction in 1.1. Which genre is more lexically diverse?"
   ]
  },
  {
   "cell_type": "markdown",
   "metadata": {},
   "source": [
    "*De acuerdo con la tabla humor tiene una diversidad léxica de 0.231 mientrás que romance tiene una diversidad léxica de 0.121. Luego parece que es más diversa la categoria de humor.*"
   ]
  },
  {
   "cell_type": "markdown",
   "metadata": {},
   "source": [
    "Produce a dispersion plot of the four main protagonists in Sense and Sensibility: Elinor, Marianne, Edward, and Willoughby. What can you observe about the different roles played by the males and females in this novel? Can you identify the couples?"
   ]
  },
  {
   "cell_type": "code",
   "execution_count": 23,
   "metadata": {
    "collapsed": false
   },
   "outputs": [
    {
     "data": {
      "image/png": "[encoded data removed]",
      "text/plain": [
       "<matplotlib.figure.Figure at 0xe03d8d0>"
      ]
     },
     "metadata": {},
     "output_type": "display_data"
    }
   ],
   "source": [
    "text2.dispersion_plot(['Elinor','Marianne','Edward','Willoughby'])"
   ]
  },
  {
   "cell_type": "code",
   "execution_count": 43,
   "metadata": {
    "collapsed": false
   },
   "outputs": [
    {
     "name": "stdout",
     "output_type": "stream",
     "text": [
      ".\"_started of_and ,_, replied_. as_and ._said ,_,\" ._saw but_had\n",
      "between_and ,_?\" to_, of_' of_, said_, ._was ._' by_, to_; at_,\n"
     ]
    }
   ],
   "source": [
    "text2.common_contexts(['Edward','Elinor'])"
   ]
  },
  {
   "cell_type": "code",
   "execution_count": 39,
   "metadata": {
    "collapsed": false
   },
   "outputs": [
    {
     "name": "stdout",
     "output_type": "stream",
     "text": [
      "than_' ,_, and_. said_, as_.-- poor_, ._first between_and to_, in_,\n",
      "of_' in_' of_, ,_; !_, ._would but_, ._was ._' by_,\n"
     ]
    }
   ],
   "source": [
    "text2.common_contexts(['Elinor','Willoughby'])"
   ]
  },
  {
   "cell_type": "code",
   "execution_count": 40,
   "metadata": {
    "collapsed": false
   },
   "outputs": [
    {
     "name": "stdout",
     "output_type": "stream",
     "text": [
      "of_and ,_, replied_. said_, ._said ,_,\" ._saw that_was between_and\n",
      ",_?\" to_, for_had of_' had_been of_, see_, that_had of_for ._was ._'\n"
     ]
    }
   ],
   "source": [
    "text2.common_contexts(['Marianne','Edward'])"
   ]
  },
  {
   "cell_type": "code",
   "execution_count": 41,
   "metadata": {
    "collapsed": false
   },
   "outputs": [
    {
     "name": "stdout",
     "output_type": "stream",
     "text": [
      "than_' what_' ,_, said_, that_, ,_; that_was between_and poor_, to_,\n",
      "of_' for_to of_, that_had from_. from_-- but_, ._was ._' as_'\n"
     ]
    }
   ],
   "source": [
    "text2.common_contexts(['Marianne','Willoughby'])"
   ]
  },
  {
   "cell_type": "code",
   "execution_count": 42,
   "metadata": {
    "collapsed": false
   },
   "outputs": [
    {
     "name": "stdout",
     "output_type": "stream",
     "text": [
      "._was ,_, said_, love_, that_was between_and to_, of_' of_, all_'\n",
      "that_had ._could ._' by_, for_, to_; of_; ._, that_should for_'\n"
     ]
    }
   ],
   "source": [
    "text2.common_contexts(['Edward','Willoughby'])"
   ]
  },
  {
   "cell_type": "markdown",
   "metadata": {},
   "source": [
    "Find the collocations in text5."
   ]
  },
  {
   "cell_type": "code",
   "execution_count": 24,
   "metadata": {
    "collapsed": false
   },
   "outputs": [
    {
     "name": "stdout",
     "output_type": "stream",
     "text": [
      "wanna chat; PART JOIN; MODE #14-19teens; JOIN PART; PART PART;\n",
      "cute.-ass MP3; MP3 player; JOIN JOIN; times .. .; ACTION watches; guys\n",
      "wanna; song lasts; last night; ACTION sits; -...)...- S.M.R.; Lime\n",
      "Player; Player 12%; dont know; lez gurls; long time\n"
     ]
    }
   ],
   "source": [
    "text5.collocations()"
   ]
  },
  {
   "cell_type": "markdown",
   "metadata": {},
   "source": [
    "Consider the following Python expression: len(set(text4)). State the purpose of this expression. Describe the two steps involved in performing this computation."
   ]
  },
  {
   "cell_type": "markdown",
   "metadata": {},
   "source": [
    "*La función len cuenta el número de elementos de una colección. Mientrás que set es un metodo para crear una colección de tipo conjunto, donde sólo se admite un único elemento de cada tipo. Luego set se encarga de borrar las instancias repetidas de las palabras en un texto para crear una lista de los tipos de palabras. Y con el método len contamos estás instancias.*"
   ]
  },
  {
   "cell_type": "markdown",
   "metadata": {},
   "source": [
    "Review 2 on lists and strings.\n",
    "\n",
    "- Define a string and assign it to a variable, e.g., my_string = 'My String' (but put something more interesting in the string). Print the contents of this variable in two ways, first by simply typing the variable name and pressing enter, then by using the print statement.\n",
    "- Try adding the string to itself using my_string + my_string, or multiplying it by a number, e.g., my_string * 3. Notice that the strings are joined together without any spaces. How could you fix this?\n"
   ]
  },
  {
   "cell_type": "code",
   "execution_count": 25,
   "metadata": {
    "collapsed": false
   },
   "outputs": [
    {
     "name": "stdout",
     "output_type": "stream",
     "text": [
      "Mi Cadena\n"
     ]
    }
   ],
   "source": [
    "my_string=\"Mi Cadena\"\n",
    "print(my_string)"
   ]
  },
  {
   "cell_type": "code",
   "execution_count": 26,
   "metadata": {
    "collapsed": false
   },
   "outputs": [
    {
     "data": {
      "text/plain": [
       "'Mi Cadena'"
      ]
     },
     "execution_count": 26,
     "metadata": {},
     "output_type": "execute_result"
    }
   ],
   "source": [
    "my_string"
   ]
  },
  {
   "cell_type": "code",
   "execution_count": 27,
   "metadata": {
    "collapsed": false
   },
   "outputs": [
    {
     "data": {
      "text/plain": [
       "'Mi CadenaMi Cadena'"
      ]
     },
     "execution_count": 27,
     "metadata": {},
     "output_type": "execute_result"
    }
   ],
   "source": [
    "my_string+my_string"
   ]
  },
  {
   "cell_type": "code",
   "execution_count": 28,
   "metadata": {
    "collapsed": false
   },
   "outputs": [
    {
     "data": {
      "text/plain": [
       "'Mi CadenaMi CadenaMi Cadena'"
      ]
     },
     "execution_count": 28,
     "metadata": {},
     "output_type": "execute_result"
    }
   ],
   "source": [
    "3*my_string"
   ]
  },
  {
   "cell_type": "code",
   "execution_count": 29,
   "metadata": {
    "collapsed": false
   },
   "outputs": [
    {
     "data": {
      "text/plain": [
       "'Mi Cadena Mi Cadena'"
      ]
     },
     "execution_count": 29,
     "metadata": {},
     "output_type": "execute_result"
    }
   ],
   "source": [
    "my_string+' '+my_string"
   ]
  },
  {
   "cell_type": "code",
   "execution_count": 30,
   "metadata": {
    "collapsed": false
   },
   "outputs": [
    {
     "data": {
      "text/plain": [
       "'Mi Cadena Mi Cadena Mi Cadena '"
      ]
     },
     "execution_count": 30,
     "metadata": {},
     "output_type": "execute_result"
    }
   ],
   "source": [
    "3*(my_string+\" \")"
   ]
  },
  {
   "cell_type": "markdown",
   "metadata": {},
   "source": [
    "Define a variable my_sent to be a list of words, using the syntax my_sent = [\"My\", \"sent\"] (but with your own words, or a favorite saying).\n",
    "\n",
    " - Use ' '.join(my_sent) to convert this into a string.\n",
    " - Use split() to split the string back into the list form you had to start with.\n"
   ]
  },
  {
   "cell_type": "code",
   "execution_count": 33,
   "metadata": {
    "collapsed": false
   },
   "outputs": [
    {
     "data": {
      "text/plain": [
       "'Hola mundo'"
      ]
     },
     "execution_count": 33,
     "metadata": {},
     "output_type": "execute_result"
    }
   ],
   "source": [
    "my_sent = [\"Hola\", \"mundo\"]\n",
    "\" \".join(my_sent)"
   ]
  },
  {
   "cell_type": "code",
   "execution_count": 34,
   "metadata": {
    "collapsed": false
   },
   "outputs": [
    {
     "data": {
      "text/plain": [
       "['Hola', 'mundo']"
      ]
     },
     "execution_count": 34,
     "metadata": {},
     "output_type": "execute_result"
    }
   ],
   "source": [
    "cadena=\" \".join(my_sent)\n",
    "lista=cadena.split(' ')\n",
    "lista"
   ]
  },
  {
   "cell_type": "markdown",
   "metadata": {},
   "source": [
    "Define several variables containing lists of words, e.g., phrase1, phrase2, and so on. Join them together in various combinations (using the plus operator) to form whole sentences. What is the relationship between len(phrase1 + phrase2) and len(phrase1) + len(phrase2)?"
   ]
  },
  {
   "cell_type": "code",
   "execution_count": 35,
   "metadata": {
    "collapsed": false
   },
   "outputs": [
    {
     "name": "stdout",
     "output_type": "stream",
     "text": [
      "70\n",
      "70\n"
     ]
    }
   ],
   "source": [
    "frase1=\"Quien madruga Dios le ayuda\"\n",
    "frase2=\"Noches de desenfreno mañanas de ibuprofeno\"\n",
    "#Son equivalentes, en la primera concatenas las frases 2\n",
    "print len(frase1+frase2)\n",
    "print len(frase1)+len(frase2)"
   ]
  },
  {
   "cell_type": "code",
   "execution_count": null,
   "metadata": {
    "collapsed": true
   },
   "outputs": [],
   "source": []
  }
 ],
 "metadata": {
  "anaconda-cloud": {},
  "kernelspec": {
   "display_name": "Python [default]",
   "language": "python",
   "name": "python2"
  },
  "language_info": {
   "codemirror_mode": {
    "name": "ipython",
    "version": 2
   },
   "file_extension": ".py",
   "mimetype": "text/x-python",
   "name": "python",
   "nbconvert_exporter": "python",
   "pygments_lexer": "ipython2",
   "version": "2.7.12"
  }
 },
 "nbformat": 4,
 "nbformat_minor": 1
}
